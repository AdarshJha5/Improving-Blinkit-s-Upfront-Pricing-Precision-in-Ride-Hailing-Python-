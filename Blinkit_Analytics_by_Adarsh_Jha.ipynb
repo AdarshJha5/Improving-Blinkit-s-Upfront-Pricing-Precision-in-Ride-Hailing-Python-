{
  "nbformat": 4,
  "nbformat_minor": 0,
  "metadata": {
    "colab": {
      "provenance": []
    },
    "kernelspec": {
      "name": "python3",
      "display_name": "Python 3"
    },
    "language_info": {
      "name": "python"
    }
  },
  "cells": [
    {
      "cell_type": "markdown",
      "source": [
        "# **Importing Libraries**"
      ],
      "metadata": {
        "id": "zIYo9-pFmLsS"
      }
    },
    {
      "cell_type": "code",
      "source": [
        "import numpy as np\n",
        "import pandas as pd\n",
        "import seaborn as sns\n",
        "import matplotlib.pyplot as plt"
      ],
      "metadata": {
        "id": "E9DPqM7u3CZy"
      },
      "execution_count": 34,
      "outputs": []
    },
    {
      "cell_type": "markdown",
      "source": [
        "# **Importing the Dataset into Pandas**"
      ],
      "metadata": {
        "id": "PjyTxQS1mUqa"
      }
    },
    {
      "cell_type": "code",
      "source": [
        "df = pd.read_csv('/content/Blinkit_Analytics.csv')\n"
      ],
      "metadata": {
        "id": "K3AvGaQo2M6p"
      },
      "execution_count": 2,
      "outputs": []
    },
    {
      "cell_type": "markdown",
      "source": [
        "# **Exploring the Dataset**"
      ],
      "metadata": {
        "id": "QkzEyyrDmhLT"
      }
    },
    {
      "cell_type": "markdown",
      "source": [
        "1. Top 5 rows of the whole dataset"
      ],
      "metadata": {
        "id": "iRX0CaNonLGY"
      }
    },
    {
      "cell_type": "code",
      "source": [
        "df.head()"
      ],
      "metadata": {
        "colab": {
          "base_uri": "https://localhost:8080/",
          "height": 304
        },
        "id": "zUJ9m0P63FSd",
        "outputId": "b3606df4-d0a0-4b9f-ad75-c76217bd57af"
      },
      "execution_count": 3,
      "outputs": [
        {
          "output_type": "execute_result",
          "data": {
            "text/plain": [
              "   order_id_new  order_try_id_new  calc_created  metered_price  upfront_price  \\\n",
              "0            22                22   43863.15105           4.04           10.0   \n",
              "1           618               618   43869.10161           6.09            3.6   \n",
              "2           657               657   43869.49346           4.32            3.5   \n",
              "3           313               313   43866.27424       72871.72            NaN   \n",
              "4          1176              1176   43874.73014       20032.50        19500.0   \n",
              "\n",
              "   distance  duration  gps_confidence entered_by   b_state  ...  \\\n",
              "0      2839       700               1     client  finished  ...   \n",
              "1      5698       493               1     client  finished  ...   \n",
              "2      4426       695               1     client  finished  ...   \n",
              "3     49748      1400               0     client  finished  ...   \n",
              "4     10273      5067               1     client  finished  ...   \n",
              "\n",
              "   ticket_id_new rider_app_version  order_state  order_try_state  \\\n",
              "0           1376           CI.4.17     finished         finished   \n",
              "1           2035           CA.5.43     finished         finished   \n",
              "2           2222           CA.5.43     finished         finished   \n",
              "3           1788           CA.5.23     finished         finished   \n",
              "4           2710           CA.5.04     finished         finished   \n",
              "\n",
              "  driver_app_version  driver_device_uid_new       device_name us_indicator  \\\n",
              "0            DA.4.37                   1596    Xiaomi Redmi 6            1   \n",
              "1            DA.4.39                   1578  Samsung SM-G965F            1   \n",
              "2            DA.4.37                    951  Samsung SM-A530F            1   \n",
              "3            DA.4.37                   1587          TECNO-Y6            0   \n",
              "4            DA.4.37                    433        Itel W5504            0   \n",
              "\n",
              "  overpaid_ride_ticket fraud_score  \n",
              "0                    0     -1383.0  \n",
              "1                    0         NaN  \n",
              "2                    0      -166.0  \n",
              "3                    1         NaN  \n",
              "4                    0         NaN  \n",
              "\n",
              "[5 rows x 25 columns]"
            ],
            "text/html": [
              "\n",
              "  <div id=\"df-62c7a7c3-0a9f-4d36-818c-f130f1aaadc7\" class=\"colab-df-container\">\n",
              "    <div>\n",
              "<style scoped>\n",
              "    .dataframe tbody tr th:only-of-type {\n",
              "        vertical-align: middle;\n",
              "    }\n",
              "\n",
              "    .dataframe tbody tr th {\n",
              "        vertical-align: top;\n",
              "    }\n",
              "\n",
              "    .dataframe thead th {\n",
              "        text-align: right;\n",
              "    }\n",
              "</style>\n",
              "<table border=\"1\" class=\"dataframe\">\n",
              "  <thead>\n",
              "    <tr style=\"text-align: right;\">\n",
              "      <th></th>\n",
              "      <th>order_id_new</th>\n",
              "      <th>order_try_id_new</th>\n",
              "      <th>calc_created</th>\n",
              "      <th>metered_price</th>\n",
              "      <th>upfront_price</th>\n",
              "      <th>distance</th>\n",
              "      <th>duration</th>\n",
              "      <th>gps_confidence</th>\n",
              "      <th>entered_by</th>\n",
              "      <th>b_state</th>\n",
              "      <th>...</th>\n",
              "      <th>ticket_id_new</th>\n",
              "      <th>rider_app_version</th>\n",
              "      <th>order_state</th>\n",
              "      <th>order_try_state</th>\n",
              "      <th>driver_app_version</th>\n",
              "      <th>driver_device_uid_new</th>\n",
              "      <th>device_name</th>\n",
              "      <th>us_indicator</th>\n",
              "      <th>overpaid_ride_ticket</th>\n",
              "      <th>fraud_score</th>\n",
              "    </tr>\n",
              "  </thead>\n",
              "  <tbody>\n",
              "    <tr>\n",
              "      <th>0</th>\n",
              "      <td>22</td>\n",
              "      <td>22</td>\n",
              "      <td>43863.15105</td>\n",
              "      <td>4.04</td>\n",
              "      <td>10.0</td>\n",
              "      <td>2839</td>\n",
              "      <td>700</td>\n",
              "      <td>1</td>\n",
              "      <td>client</td>\n",
              "      <td>finished</td>\n",
              "      <td>...</td>\n",
              "      <td>1376</td>\n",
              "      <td>CI.4.17</td>\n",
              "      <td>finished</td>\n",
              "      <td>finished</td>\n",
              "      <td>DA.4.37</td>\n",
              "      <td>1596</td>\n",
              "      <td>Xiaomi Redmi 6</td>\n",
              "      <td>1</td>\n",
              "      <td>0</td>\n",
              "      <td>-1383.0</td>\n",
              "    </tr>\n",
              "    <tr>\n",
              "      <th>1</th>\n",
              "      <td>618</td>\n",
              "      <td>618</td>\n",
              "      <td>43869.10161</td>\n",
              "      <td>6.09</td>\n",
              "      <td>3.6</td>\n",
              "      <td>5698</td>\n",
              "      <td>493</td>\n",
              "      <td>1</td>\n",
              "      <td>client</td>\n",
              "      <td>finished</td>\n",
              "      <td>...</td>\n",
              "      <td>2035</td>\n",
              "      <td>CA.5.43</td>\n",
              "      <td>finished</td>\n",
              "      <td>finished</td>\n",
              "      <td>DA.4.39</td>\n",
              "      <td>1578</td>\n",
              "      <td>Samsung SM-G965F</td>\n",
              "      <td>1</td>\n",
              "      <td>0</td>\n",
              "      <td>NaN</td>\n",
              "    </tr>\n",
              "    <tr>\n",
              "      <th>2</th>\n",
              "      <td>657</td>\n",
              "      <td>657</td>\n",
              "      <td>43869.49346</td>\n",
              "      <td>4.32</td>\n",
              "      <td>3.5</td>\n",
              "      <td>4426</td>\n",
              "      <td>695</td>\n",
              "      <td>1</td>\n",
              "      <td>client</td>\n",
              "      <td>finished</td>\n",
              "      <td>...</td>\n",
              "      <td>2222</td>\n",
              "      <td>CA.5.43</td>\n",
              "      <td>finished</td>\n",
              "      <td>finished</td>\n",
              "      <td>DA.4.37</td>\n",
              "      <td>951</td>\n",
              "      <td>Samsung SM-A530F</td>\n",
              "      <td>1</td>\n",
              "      <td>0</td>\n",
              "      <td>-166.0</td>\n",
              "    </tr>\n",
              "    <tr>\n",
              "      <th>3</th>\n",
              "      <td>313</td>\n",
              "      <td>313</td>\n",
              "      <td>43866.27424</td>\n",
              "      <td>72871.72</td>\n",
              "      <td>NaN</td>\n",
              "      <td>49748</td>\n",
              "      <td>1400</td>\n",
              "      <td>0</td>\n",
              "      <td>client</td>\n",
              "      <td>finished</td>\n",
              "      <td>...</td>\n",
              "      <td>1788</td>\n",
              "      <td>CA.5.23</td>\n",
              "      <td>finished</td>\n",
              "      <td>finished</td>\n",
              "      <td>DA.4.37</td>\n",
              "      <td>1587</td>\n",
              "      <td>TECNO-Y6</td>\n",
              "      <td>0</td>\n",
              "      <td>1</td>\n",
              "      <td>NaN</td>\n",
              "    </tr>\n",
              "    <tr>\n",
              "      <th>4</th>\n",
              "      <td>1176</td>\n",
              "      <td>1176</td>\n",
              "      <td>43874.73014</td>\n",
              "      <td>20032.50</td>\n",
              "      <td>19500.0</td>\n",
              "      <td>10273</td>\n",
              "      <td>5067</td>\n",
              "      <td>1</td>\n",
              "      <td>client</td>\n",
              "      <td>finished</td>\n",
              "      <td>...</td>\n",
              "      <td>2710</td>\n",
              "      <td>CA.5.04</td>\n",
              "      <td>finished</td>\n",
              "      <td>finished</td>\n",
              "      <td>DA.4.37</td>\n",
              "      <td>433</td>\n",
              "      <td>Itel W5504</td>\n",
              "      <td>0</td>\n",
              "      <td>0</td>\n",
              "      <td>NaN</td>\n",
              "    </tr>\n",
              "  </tbody>\n",
              "</table>\n",
              "<p>5 rows × 25 columns</p>\n",
              "</div>\n",
              "    <div class=\"colab-df-buttons\">\n",
              "\n",
              "  <div class=\"colab-df-container\">\n",
              "    <button class=\"colab-df-convert\" onclick=\"convertToInteractive('df-62c7a7c3-0a9f-4d36-818c-f130f1aaadc7')\"\n",
              "            title=\"Convert this dataframe to an interactive table.\"\n",
              "            style=\"display:none;\">\n",
              "\n",
              "  <svg xmlns=\"http://www.w3.org/2000/svg\" height=\"24px\" viewBox=\"0 -960 960 960\">\n",
              "    <path d=\"M120-120v-720h720v720H120Zm60-500h600v-160H180v160Zm220 220h160v-160H400v160Zm0 220h160v-160H400v160ZM180-400h160v-160H180v160Zm440 0h160v-160H620v160ZM180-180h160v-160H180v160Zm440 0h160v-160H620v160Z\"/>\n",
              "  </svg>\n",
              "    </button>\n",
              "\n",
              "  <style>\n",
              "    .colab-df-container {\n",
              "      display:flex;\n",
              "      gap: 12px;\n",
              "    }\n",
              "\n",
              "    .colab-df-convert {\n",
              "      background-color: #E8F0FE;\n",
              "      border: none;\n",
              "      border-radius: 50%;\n",
              "      cursor: pointer;\n",
              "      display: none;\n",
              "      fill: #1967D2;\n",
              "      height: 32px;\n",
              "      padding: 0 0 0 0;\n",
              "      width: 32px;\n",
              "    }\n",
              "\n",
              "    .colab-df-convert:hover {\n",
              "      background-color: #E2EBFA;\n",
              "      box-shadow: 0px 1px 2px rgba(60, 64, 67, 0.3), 0px 1px 3px 1px rgba(60, 64, 67, 0.15);\n",
              "      fill: #174EA6;\n",
              "    }\n",
              "\n",
              "    .colab-df-buttons div {\n",
              "      margin-bottom: 4px;\n",
              "    }\n",
              "\n",
              "    [theme=dark] .colab-df-convert {\n",
              "      background-color: #3B4455;\n",
              "      fill: #D2E3FC;\n",
              "    }\n",
              "\n",
              "    [theme=dark] .colab-df-convert:hover {\n",
              "      background-color: #434B5C;\n",
              "      box-shadow: 0px 1px 3px 1px rgba(0, 0, 0, 0.15);\n",
              "      filter: drop-shadow(0px 1px 2px rgba(0, 0, 0, 0.3));\n",
              "      fill: #FFFFFF;\n",
              "    }\n",
              "  </style>\n",
              "\n",
              "    <script>\n",
              "      const buttonEl =\n",
              "        document.querySelector('#df-62c7a7c3-0a9f-4d36-818c-f130f1aaadc7 button.colab-df-convert');\n",
              "      buttonEl.style.display =\n",
              "        google.colab.kernel.accessAllowed ? 'block' : 'none';\n",
              "\n",
              "      async function convertToInteractive(key) {\n",
              "        const element = document.querySelector('#df-62c7a7c3-0a9f-4d36-818c-f130f1aaadc7');\n",
              "        const dataTable =\n",
              "          await google.colab.kernel.invokeFunction('convertToInteractive',\n",
              "                                                    [key], {});\n",
              "        if (!dataTable) return;\n",
              "\n",
              "        const docLinkHtml = 'Like what you see? Visit the ' +\n",
              "          '<a target=\"_blank\" href=https://colab.research.google.com/notebooks/data_table.ipynb>data table notebook</a>'\n",
              "          + ' to learn more about interactive tables.';\n",
              "        element.innerHTML = '';\n",
              "        dataTable['output_type'] = 'display_data';\n",
              "        await google.colab.output.renderOutput(dataTable, element);\n",
              "        const docLink = document.createElement('div');\n",
              "        docLink.innerHTML = docLinkHtml;\n",
              "        element.appendChild(docLink);\n",
              "      }\n",
              "    </script>\n",
              "  </div>\n",
              "\n",
              "\n",
              "<div id=\"df-71269256-0067-4fe5-822e-78d84facdabf\">\n",
              "  <button class=\"colab-df-quickchart\" onclick=\"quickchart('df-71269256-0067-4fe5-822e-78d84facdabf')\"\n",
              "            title=\"Suggest charts\"\n",
              "            style=\"display:none;\">\n",
              "\n",
              "<svg xmlns=\"http://www.w3.org/2000/svg\" height=\"24px\"viewBox=\"0 0 24 24\"\n",
              "     width=\"24px\">\n",
              "    <g>\n",
              "        <path d=\"M19 3H5c-1.1 0-2 .9-2 2v14c0 1.1.9 2 2 2h14c1.1 0 2-.9 2-2V5c0-1.1-.9-2-2-2zM9 17H7v-7h2v7zm4 0h-2V7h2v10zm4 0h-2v-4h2v4z\"/>\n",
              "    </g>\n",
              "</svg>\n",
              "  </button>\n",
              "\n",
              "<style>\n",
              "  .colab-df-quickchart {\n",
              "      --bg-color: #E8F0FE;\n",
              "      --fill-color: #1967D2;\n",
              "      --hover-bg-color: #E2EBFA;\n",
              "      --hover-fill-color: #174EA6;\n",
              "      --disabled-fill-color: #AAA;\n",
              "      --disabled-bg-color: #DDD;\n",
              "  }\n",
              "\n",
              "  [theme=dark] .colab-df-quickchart {\n",
              "      --bg-color: #3B4455;\n",
              "      --fill-color: #D2E3FC;\n",
              "      --hover-bg-color: #434B5C;\n",
              "      --hover-fill-color: #FFFFFF;\n",
              "      --disabled-bg-color: #3B4455;\n",
              "      --disabled-fill-color: #666;\n",
              "  }\n",
              "\n",
              "  .colab-df-quickchart {\n",
              "    background-color: var(--bg-color);\n",
              "    border: none;\n",
              "    border-radius: 50%;\n",
              "    cursor: pointer;\n",
              "    display: none;\n",
              "    fill: var(--fill-color);\n",
              "    height: 32px;\n",
              "    padding: 0;\n",
              "    width: 32px;\n",
              "  }\n",
              "\n",
              "  .colab-df-quickchart:hover {\n",
              "    background-color: var(--hover-bg-color);\n",
              "    box-shadow: 0 1px 2px rgba(60, 64, 67, 0.3), 0 1px 3px 1px rgba(60, 64, 67, 0.15);\n",
              "    fill: var(--button-hover-fill-color);\n",
              "  }\n",
              "\n",
              "  .colab-df-quickchart-complete:disabled,\n",
              "  .colab-df-quickchart-complete:disabled:hover {\n",
              "    background-color: var(--disabled-bg-color);\n",
              "    fill: var(--disabled-fill-color);\n",
              "    box-shadow: none;\n",
              "  }\n",
              "\n",
              "  .colab-df-spinner {\n",
              "    border: 2px solid var(--fill-color);\n",
              "    border-color: transparent;\n",
              "    border-bottom-color: var(--fill-color);\n",
              "    animation:\n",
              "      spin 1s steps(1) infinite;\n",
              "  }\n",
              "\n",
              "  @keyframes spin {\n",
              "    0% {\n",
              "      border-color: transparent;\n",
              "      border-bottom-color: var(--fill-color);\n",
              "      border-left-color: var(--fill-color);\n",
              "    }\n",
              "    20% {\n",
              "      border-color: transparent;\n",
              "      border-left-color: var(--fill-color);\n",
              "      border-top-color: var(--fill-color);\n",
              "    }\n",
              "    30% {\n",
              "      border-color: transparent;\n",
              "      border-left-color: var(--fill-color);\n",
              "      border-top-color: var(--fill-color);\n",
              "      border-right-color: var(--fill-color);\n",
              "    }\n",
              "    40% {\n",
              "      border-color: transparent;\n",
              "      border-right-color: var(--fill-color);\n",
              "      border-top-color: var(--fill-color);\n",
              "    }\n",
              "    60% {\n",
              "      border-color: transparent;\n",
              "      border-right-color: var(--fill-color);\n",
              "    }\n",
              "    80% {\n",
              "      border-color: transparent;\n",
              "      border-right-color: var(--fill-color);\n",
              "      border-bottom-color: var(--fill-color);\n",
              "    }\n",
              "    90% {\n",
              "      border-color: transparent;\n",
              "      border-bottom-color: var(--fill-color);\n",
              "    }\n",
              "  }\n",
              "</style>\n",
              "\n",
              "  <script>\n",
              "    async function quickchart(key) {\n",
              "      const quickchartButtonEl =\n",
              "        document.querySelector('#' + key + ' button');\n",
              "      quickchartButtonEl.disabled = true;  // To prevent multiple clicks.\n",
              "      quickchartButtonEl.classList.add('colab-df-spinner');\n",
              "      try {\n",
              "        const charts = await google.colab.kernel.invokeFunction(\n",
              "            'suggestCharts', [key], {});\n",
              "      } catch (error) {\n",
              "        console.error('Error during call to suggestCharts:', error);\n",
              "      }\n",
              "      quickchartButtonEl.classList.remove('colab-df-spinner');\n",
              "      quickchartButtonEl.classList.add('colab-df-quickchart-complete');\n",
              "    }\n",
              "    (() => {\n",
              "      let quickchartButtonEl =\n",
              "        document.querySelector('#df-71269256-0067-4fe5-822e-78d84facdabf button');\n",
              "      quickchartButtonEl.style.display =\n",
              "        google.colab.kernel.accessAllowed ? 'block' : 'none';\n",
              "    })();\n",
              "  </script>\n",
              "</div>\n",
              "\n",
              "    </div>\n",
              "  </div>\n"
            ],
            "application/vnd.google.colaboratory.intrinsic+json": {
              "type": "dataframe",
              "variable_name": "df"
            }
          },
          "metadata": {},
          "execution_count": 3
        }
      ]
    },
    {
      "cell_type": "markdown",
      "source": [
        "2. Information about the columns (Data-Type and Non-null value count)\n",
        "\n",
        "\n",
        "\n"
      ],
      "metadata": {
        "id": "kEjvRxzTnU_8"
      }
    },
    {
      "cell_type": "code",
      "source": [
        "df.info()"
      ],
      "metadata": {
        "colab": {
          "base_uri": "https://localhost:8080/"
        },
        "id": "o4LAtSkm3LZ8",
        "outputId": "4e6bf2c4-fd7f-441e-c3f0-6d95dfa2dcb9"
      },
      "execution_count": 4,
      "outputs": [
        {
          "output_type": "stream",
          "name": "stdout",
          "text": [
            "<class 'pandas.core.frame.DataFrame'>\n",
            "RangeIndex: 4943 entries, 0 to 4942\n",
            "Data columns (total 25 columns):\n",
            " #   Column                 Non-Null Count  Dtype  \n",
            "---  ------                 --------------  -----  \n",
            " 0   order_id_new           4943 non-null   int64  \n",
            " 1   order_try_id_new       4943 non-null   int64  \n",
            " 2   calc_created           4943 non-null   float64\n",
            " 3   metered_price          4923 non-null   float64\n",
            " 4   upfront_price          3409 non-null   float64\n",
            " 5   distance               4943 non-null   int64  \n",
            " 6   duration               4943 non-null   int64  \n",
            " 7   gps_confidence         4943 non-null   int64  \n",
            " 8   entered_by             4943 non-null   object \n",
            " 9   b_state                4943 non-null   object \n",
            " 10  dest_change_number     4943 non-null   int64  \n",
            " 11  prediction_price_type  4923 non-null   object \n",
            " 12  predicted_distance     4923 non-null   float64\n",
            " 13  predicted_duration     4923 non-null   float64\n",
            " 14  change_reason_pricing  298 non-null    object \n",
            " 15  ticket_id_new          4943 non-null   int64  \n",
            " 16  rider_app_version      4927 non-null   object \n",
            " 17  order_state            4943 non-null   object \n",
            " 18  order_try_state        4943 non-null   object \n",
            " 19  driver_app_version     4943 non-null   object \n",
            " 20  driver_device_uid_new  4943 non-null   int64  \n",
            " 21  device_name            4943 non-null   object \n",
            " 22  us_indicator           4943 non-null   int64  \n",
            " 23  overpaid_ride_ticket   4943 non-null   int64  \n",
            " 24  fraud_score            2184 non-null   float64\n",
            "dtypes: float64(6), int64(10), object(9)\n",
            "memory usage: 965.6+ KB\n"
          ]
        }
      ]
    },
    {
      "cell_type": "markdown",
      "source": [
        "3. Column Names"
      ],
      "metadata": {
        "id": "nuddl-Qfng9L"
      }
    },
    {
      "cell_type": "code",
      "source": [
        "df.columns"
      ],
      "metadata": {
        "colab": {
          "base_uri": "https://localhost:8080/"
        },
        "id": "0FI_Y0a13ULy",
        "outputId": "01f0196f-0bd6-406d-8f3c-a14f080e2dbd"
      },
      "execution_count": 5,
      "outputs": [
        {
          "output_type": "execute_result",
          "data": {
            "text/plain": [
              "Index(['order_id_new', 'order_try_id_new', 'calc_created', 'metered_price',\n",
              "       'upfront_price', 'distance', 'duration', 'gps_confidence', 'entered_by',\n",
              "       'b_state', 'dest_change_number', 'prediction_price_type',\n",
              "       'predicted_distance', 'predicted_duration', 'change_reason_pricing',\n",
              "       'ticket_id_new', 'rider_app_version', 'order_state', 'order_try_state',\n",
              "       'driver_app_version', 'driver_device_uid_new', 'device_name',\n",
              "       'us_indicator', 'overpaid_ride_ticket', 'fraud_score'],\n",
              "      dtype='object')"
            ]
          },
          "metadata": {},
          "execution_count": 5
        }
      ]
    },
    {
      "cell_type": "markdown",
      "source": [
        "4. Number of Columns and Rows present in the dataset."
      ],
      "metadata": {
        "id": "06RLgFm3n5LW"
      }
    },
    {
      "cell_type": "code",
      "source": [
        "df.shape"
      ],
      "metadata": {
        "colab": {
          "base_uri": "https://localhost:8080/"
        },
        "id": "cn6nWPPdoBFU",
        "outputId": "1d6df1bb-8e13-416f-a3c3-3811d9e47e40"
      },
      "execution_count": 6,
      "outputs": [
        {
          "output_type": "execute_result",
          "data": {
            "text/plain": [
              "(4943, 25)"
            ]
          },
          "metadata": {},
          "execution_count": 6
        }
      ]
    },
    {
      "cell_type": "markdown",
      "source": [
        "5. Identifying the null values present in the column"
      ],
      "metadata": {
        "id": "QOzDp3nnn0Mu"
      }
    },
    {
      "cell_type": "code",
      "source": [
        "df.isnull().sum()"
      ],
      "metadata": {
        "colab": {
          "base_uri": "https://localhost:8080/"
        },
        "id": "DYil3E7M3cn7",
        "outputId": "c6bfd7d4-923e-4f1e-b0ca-1c98e158d0e6"
      },
      "execution_count": 7,
      "outputs": [
        {
          "output_type": "execute_result",
          "data": {
            "text/plain": [
              "order_id_new                0\n",
              "order_try_id_new            0\n",
              "calc_created                0\n",
              "metered_price              20\n",
              "upfront_price            1534\n",
              "distance                    0\n",
              "duration                    0\n",
              "gps_confidence              0\n",
              "entered_by                  0\n",
              "b_state                     0\n",
              "dest_change_number          0\n",
              "prediction_price_type      20\n",
              "predicted_distance         20\n",
              "predicted_duration         20\n",
              "change_reason_pricing    4645\n",
              "ticket_id_new               0\n",
              "rider_app_version          16\n",
              "order_state                 0\n",
              "order_try_state             0\n",
              "driver_app_version          0\n",
              "driver_device_uid_new       0\n",
              "device_name                 0\n",
              "us_indicator                0\n",
              "overpaid_ride_ticket        0\n",
              "fraud_score              2759\n",
              "dtype: int64"
            ]
          },
          "metadata": {},
          "execution_count": 7
        }
      ]
    },
    {
      "cell_type": "markdown",
      "source": [
        "# **Creating  a New Data Frame**\n",
        "Since we do not require all the columns to analyze  this data and identify the top opportunities that can help us improve upfront pricing precision.\n",
        "\n",
        "So we are creating the new data frame based upon the columns which will help us identify the in's and out's of *Upfront Price*."
      ],
      "metadata": {
        "id": "XQdizIDvojsF"
      }
    },
    {
      "cell_type": "code",
      "source": [
        "df_required_columns = df[['order_id_new',\n",
        "                         'metered_price',\n",
        "                         'upfront_price',\n",
        "                         'distance',\n",
        "                         'duration',\n",
        "                         'gps_confidence',\n",
        "                         'dest_change_number',\n",
        "                         'prediction_price_type',\n",
        "                         'predicted_distance',\n",
        "                         'predicted_duration',\n",
        "                         'fraud_score']]"
      ],
      "metadata": {
        "id": "jxyNysQj4Htu"
      },
      "execution_count": 8,
      "outputs": []
    },
    {
      "cell_type": "markdown",
      "source": [
        "## **Exploring the new data frame**"
      ],
      "metadata": {
        "id": "bd3FldEnpgkA"
      }
    },
    {
      "cell_type": "markdown",
      "source": [
        "1. Top 10 rows of the updated dataset"
      ],
      "metadata": {
        "id": "Ml_2SzMOpsZr"
      }
    },
    {
      "cell_type": "code",
      "source": [
        "df_required_columns.head(10)"
      ],
      "metadata": {
        "colab": {
          "base_uri": "https://localhost:8080/",
          "height": 379
        },
        "id": "ZzTSUGZm6sRt",
        "outputId": "ed304847-eb61-4ef7-fd73-3c87043d2b77"
      },
      "execution_count": 9,
      "outputs": [
        {
          "output_type": "execute_result",
          "data": {
            "text/plain": [
              "   order_id_new  metered_price  upfront_price  distance  duration  \\\n",
              "0            22           4.04           10.0      2839       700   \n",
              "1           618           6.09            3.6      5698       493   \n",
              "2           657           4.32            3.5      4426       695   \n",
              "3           313       72871.72            NaN     49748      1400   \n",
              "4          1176       20032.50        19500.0     10273      5067   \n",
              "5          1209           6.11            6.3      4924       513   \n",
              "6           761       20753.20        10500.0     10459      1874   \n",
              "7          1662           2.61            6.5      2020       412   \n",
              "8          1904       13600.50            NaN      9540      1917   \n",
              "9          1999           4.14            2.5      3845       720   \n",
              "\n",
              "   gps_confidence  dest_change_number        prediction_price_type  \\\n",
              "0               1                   1                      upfront   \n",
              "1               1                   1                      upfront   \n",
              "2               1                   1                      upfront   \n",
              "3               0                   2  upfront_destination_changed   \n",
              "4               1                   1                      upfront   \n",
              "5               1                   1                      upfront   \n",
              "6               1                   1                      upfront   \n",
              "7               1                   1                      upfront   \n",
              "8               1                   1                   prediction   \n",
              "9               1                   1                      upfront   \n",
              "\n",
              "   predicted_distance  predicted_duration  fraud_score  \n",
              "0             13384.0              1091.0      -1383.0  \n",
              "1              2286.0               360.0          NaN  \n",
              "2              4101.0               433.0       -166.0  \n",
              "3              3017.0               600.0          NaN  \n",
              "4             14236.0              2778.0          NaN  \n",
              "5              4882.0               562.0          NaN  \n",
              "6              4892.0               698.0          NaN  \n",
              "7              8545.0               888.0      -2350.0  \n",
              "8             11018.0              1914.0          NaN  \n",
              "9              1883.0               298.0      -5181.0  "
            ],
            "text/html": [
              "\n",
              "  <div id=\"df-8685655e-e467-4419-985e-948ff1f730d5\" class=\"colab-df-container\">\n",
              "    <div>\n",
              "<style scoped>\n",
              "    .dataframe tbody tr th:only-of-type {\n",
              "        vertical-align: middle;\n",
              "    }\n",
              "\n",
              "    .dataframe tbody tr th {\n",
              "        vertical-align: top;\n",
              "    }\n",
              "\n",
              "    .dataframe thead th {\n",
              "        text-align: right;\n",
              "    }\n",
              "</style>\n",
              "<table border=\"1\" class=\"dataframe\">\n",
              "  <thead>\n",
              "    <tr style=\"text-align: right;\">\n",
              "      <th></th>\n",
              "      <th>order_id_new</th>\n",
              "      <th>metered_price</th>\n",
              "      <th>upfront_price</th>\n",
              "      <th>distance</th>\n",
              "      <th>duration</th>\n",
              "      <th>gps_confidence</th>\n",
              "      <th>dest_change_number</th>\n",
              "      <th>prediction_price_type</th>\n",
              "      <th>predicted_distance</th>\n",
              "      <th>predicted_duration</th>\n",
              "      <th>fraud_score</th>\n",
              "    </tr>\n",
              "  </thead>\n",
              "  <tbody>\n",
              "    <tr>\n",
              "      <th>0</th>\n",
              "      <td>22</td>\n",
              "      <td>4.04</td>\n",
              "      <td>10.0</td>\n",
              "      <td>2839</td>\n",
              "      <td>700</td>\n",
              "      <td>1</td>\n",
              "      <td>1</td>\n",
              "      <td>upfront</td>\n",
              "      <td>13384.0</td>\n",
              "      <td>1091.0</td>\n",
              "      <td>-1383.0</td>\n",
              "    </tr>\n",
              "    <tr>\n",
              "      <th>1</th>\n",
              "      <td>618</td>\n",
              "      <td>6.09</td>\n",
              "      <td>3.6</td>\n",
              "      <td>5698</td>\n",
              "      <td>493</td>\n",
              "      <td>1</td>\n",
              "      <td>1</td>\n",
              "      <td>upfront</td>\n",
              "      <td>2286.0</td>\n",
              "      <td>360.0</td>\n",
              "      <td>NaN</td>\n",
              "    </tr>\n",
              "    <tr>\n",
              "      <th>2</th>\n",
              "      <td>657</td>\n",
              "      <td>4.32</td>\n",
              "      <td>3.5</td>\n",
              "      <td>4426</td>\n",
              "      <td>695</td>\n",
              "      <td>1</td>\n",
              "      <td>1</td>\n",
              "      <td>upfront</td>\n",
              "      <td>4101.0</td>\n",
              "      <td>433.0</td>\n",
              "      <td>-166.0</td>\n",
              "    </tr>\n",
              "    <tr>\n",
              "      <th>3</th>\n",
              "      <td>313</td>\n",
              "      <td>72871.72</td>\n",
              "      <td>NaN</td>\n",
              "      <td>49748</td>\n",
              "      <td>1400</td>\n",
              "      <td>0</td>\n",
              "      <td>2</td>\n",
              "      <td>upfront_destination_changed</td>\n",
              "      <td>3017.0</td>\n",
              "      <td>600.0</td>\n",
              "      <td>NaN</td>\n",
              "    </tr>\n",
              "    <tr>\n",
              "      <th>4</th>\n",
              "      <td>1176</td>\n",
              "      <td>20032.50</td>\n",
              "      <td>19500.0</td>\n",
              "      <td>10273</td>\n",
              "      <td>5067</td>\n",
              "      <td>1</td>\n",
              "      <td>1</td>\n",
              "      <td>upfront</td>\n",
              "      <td>14236.0</td>\n",
              "      <td>2778.0</td>\n",
              "      <td>NaN</td>\n",
              "    </tr>\n",
              "    <tr>\n",
              "      <th>5</th>\n",
              "      <td>1209</td>\n",
              "      <td>6.11</td>\n",
              "      <td>6.3</td>\n",
              "      <td>4924</td>\n",
              "      <td>513</td>\n",
              "      <td>1</td>\n",
              "      <td>1</td>\n",
              "      <td>upfront</td>\n",
              "      <td>4882.0</td>\n",
              "      <td>562.0</td>\n",
              "      <td>NaN</td>\n",
              "    </tr>\n",
              "    <tr>\n",
              "      <th>6</th>\n",
              "      <td>761</td>\n",
              "      <td>20753.20</td>\n",
              "      <td>10500.0</td>\n",
              "      <td>10459</td>\n",
              "      <td>1874</td>\n",
              "      <td>1</td>\n",
              "      <td>1</td>\n",
              "      <td>upfront</td>\n",
              "      <td>4892.0</td>\n",
              "      <td>698.0</td>\n",
              "      <td>NaN</td>\n",
              "    </tr>\n",
              "    <tr>\n",
              "      <th>7</th>\n",
              "      <td>1662</td>\n",
              "      <td>2.61</td>\n",
              "      <td>6.5</td>\n",
              "      <td>2020</td>\n",
              "      <td>412</td>\n",
              "      <td>1</td>\n",
              "      <td>1</td>\n",
              "      <td>upfront</td>\n",
              "      <td>8545.0</td>\n",
              "      <td>888.0</td>\n",
              "      <td>-2350.0</td>\n",
              "    </tr>\n",
              "    <tr>\n",
              "      <th>8</th>\n",
              "      <td>1904</td>\n",
              "      <td>13600.50</td>\n",
              "      <td>NaN</td>\n",
              "      <td>9540</td>\n",
              "      <td>1917</td>\n",
              "      <td>1</td>\n",
              "      <td>1</td>\n",
              "      <td>prediction</td>\n",
              "      <td>11018.0</td>\n",
              "      <td>1914.0</td>\n",
              "      <td>NaN</td>\n",
              "    </tr>\n",
              "    <tr>\n",
              "      <th>9</th>\n",
              "      <td>1999</td>\n",
              "      <td>4.14</td>\n",
              "      <td>2.5</td>\n",
              "      <td>3845</td>\n",
              "      <td>720</td>\n",
              "      <td>1</td>\n",
              "      <td>1</td>\n",
              "      <td>upfront</td>\n",
              "      <td>1883.0</td>\n",
              "      <td>298.0</td>\n",
              "      <td>-5181.0</td>\n",
              "    </tr>\n",
              "  </tbody>\n",
              "</table>\n",
              "</div>\n",
              "    <div class=\"colab-df-buttons\">\n",
              "\n",
              "  <div class=\"colab-df-container\">\n",
              "    <button class=\"colab-df-convert\" onclick=\"convertToInteractive('df-8685655e-e467-4419-985e-948ff1f730d5')\"\n",
              "            title=\"Convert this dataframe to an interactive table.\"\n",
              "            style=\"display:none;\">\n",
              "\n",
              "  <svg xmlns=\"http://www.w3.org/2000/svg\" height=\"24px\" viewBox=\"0 -960 960 960\">\n",
              "    <path d=\"M120-120v-720h720v720H120Zm60-500h600v-160H180v160Zm220 220h160v-160H400v160Zm0 220h160v-160H400v160ZM180-400h160v-160H180v160Zm440 0h160v-160H620v160ZM180-180h160v-160H180v160Zm440 0h160v-160H620v160Z\"/>\n",
              "  </svg>\n",
              "    </button>\n",
              "\n",
              "  <style>\n",
              "    .colab-df-container {\n",
              "      display:flex;\n",
              "      gap: 12px;\n",
              "    }\n",
              "\n",
              "    .colab-df-convert {\n",
              "      background-color: #E8F0FE;\n",
              "      border: none;\n",
              "      border-radius: 50%;\n",
              "      cursor: pointer;\n",
              "      display: none;\n",
              "      fill: #1967D2;\n",
              "      height: 32px;\n",
              "      padding: 0 0 0 0;\n",
              "      width: 32px;\n",
              "    }\n",
              "\n",
              "    .colab-df-convert:hover {\n",
              "      background-color: #E2EBFA;\n",
              "      box-shadow: 0px 1px 2px rgba(60, 64, 67, 0.3), 0px 1px 3px 1px rgba(60, 64, 67, 0.15);\n",
              "      fill: #174EA6;\n",
              "    }\n",
              "\n",
              "    .colab-df-buttons div {\n",
              "      margin-bottom: 4px;\n",
              "    }\n",
              "\n",
              "    [theme=dark] .colab-df-convert {\n",
              "      background-color: #3B4455;\n",
              "      fill: #D2E3FC;\n",
              "    }\n",
              "\n",
              "    [theme=dark] .colab-df-convert:hover {\n",
              "      background-color: #434B5C;\n",
              "      box-shadow: 0px 1px 3px 1px rgba(0, 0, 0, 0.15);\n",
              "      filter: drop-shadow(0px 1px 2px rgba(0, 0, 0, 0.3));\n",
              "      fill: #FFFFFF;\n",
              "    }\n",
              "  </style>\n",
              "\n",
              "    <script>\n",
              "      const buttonEl =\n",
              "        document.querySelector('#df-8685655e-e467-4419-985e-948ff1f730d5 button.colab-df-convert');\n",
              "      buttonEl.style.display =\n",
              "        google.colab.kernel.accessAllowed ? 'block' : 'none';\n",
              "\n",
              "      async function convertToInteractive(key) {\n",
              "        const element = document.querySelector('#df-8685655e-e467-4419-985e-948ff1f730d5');\n",
              "        const dataTable =\n",
              "          await google.colab.kernel.invokeFunction('convertToInteractive',\n",
              "                                                    [key], {});\n",
              "        if (!dataTable) return;\n",
              "\n",
              "        const docLinkHtml = 'Like what you see? Visit the ' +\n",
              "          '<a target=\"_blank\" href=https://colab.research.google.com/notebooks/data_table.ipynb>data table notebook</a>'\n",
              "          + ' to learn more about interactive tables.';\n",
              "        element.innerHTML = '';\n",
              "        dataTable['output_type'] = 'display_data';\n",
              "        await google.colab.output.renderOutput(dataTable, element);\n",
              "        const docLink = document.createElement('div');\n",
              "        docLink.innerHTML = docLinkHtml;\n",
              "        element.appendChild(docLink);\n",
              "      }\n",
              "    </script>\n",
              "  </div>\n",
              "\n",
              "\n",
              "<div id=\"df-0ca83526-1715-45f5-a457-27afd16481c2\">\n",
              "  <button class=\"colab-df-quickchart\" onclick=\"quickchart('df-0ca83526-1715-45f5-a457-27afd16481c2')\"\n",
              "            title=\"Suggest charts\"\n",
              "            style=\"display:none;\">\n",
              "\n",
              "<svg xmlns=\"http://www.w3.org/2000/svg\" height=\"24px\"viewBox=\"0 0 24 24\"\n",
              "     width=\"24px\">\n",
              "    <g>\n",
              "        <path d=\"M19 3H5c-1.1 0-2 .9-2 2v14c0 1.1.9 2 2 2h14c1.1 0 2-.9 2-2V5c0-1.1-.9-2-2-2zM9 17H7v-7h2v7zm4 0h-2V7h2v10zm4 0h-2v-4h2v4z\"/>\n",
              "    </g>\n",
              "</svg>\n",
              "  </button>\n",
              "\n",
              "<style>\n",
              "  .colab-df-quickchart {\n",
              "      --bg-color: #E8F0FE;\n",
              "      --fill-color: #1967D2;\n",
              "      --hover-bg-color: #E2EBFA;\n",
              "      --hover-fill-color: #174EA6;\n",
              "      --disabled-fill-color: #AAA;\n",
              "      --disabled-bg-color: #DDD;\n",
              "  }\n",
              "\n",
              "  [theme=dark] .colab-df-quickchart {\n",
              "      --bg-color: #3B4455;\n",
              "      --fill-color: #D2E3FC;\n",
              "      --hover-bg-color: #434B5C;\n",
              "      --hover-fill-color: #FFFFFF;\n",
              "      --disabled-bg-color: #3B4455;\n",
              "      --disabled-fill-color: #666;\n",
              "  }\n",
              "\n",
              "  .colab-df-quickchart {\n",
              "    background-color: var(--bg-color);\n",
              "    border: none;\n",
              "    border-radius: 50%;\n",
              "    cursor: pointer;\n",
              "    display: none;\n",
              "    fill: var(--fill-color);\n",
              "    height: 32px;\n",
              "    padding: 0;\n",
              "    width: 32px;\n",
              "  }\n",
              "\n",
              "  .colab-df-quickchart:hover {\n",
              "    background-color: var(--hover-bg-color);\n",
              "    box-shadow: 0 1px 2px rgba(60, 64, 67, 0.3), 0 1px 3px 1px rgba(60, 64, 67, 0.15);\n",
              "    fill: var(--button-hover-fill-color);\n",
              "  }\n",
              "\n",
              "  .colab-df-quickchart-complete:disabled,\n",
              "  .colab-df-quickchart-complete:disabled:hover {\n",
              "    background-color: var(--disabled-bg-color);\n",
              "    fill: var(--disabled-fill-color);\n",
              "    box-shadow: none;\n",
              "  }\n",
              "\n",
              "  .colab-df-spinner {\n",
              "    border: 2px solid var(--fill-color);\n",
              "    border-color: transparent;\n",
              "    border-bottom-color: var(--fill-color);\n",
              "    animation:\n",
              "      spin 1s steps(1) infinite;\n",
              "  }\n",
              "\n",
              "  @keyframes spin {\n",
              "    0% {\n",
              "      border-color: transparent;\n",
              "      border-bottom-color: var(--fill-color);\n",
              "      border-left-color: var(--fill-color);\n",
              "    }\n",
              "    20% {\n",
              "      border-color: transparent;\n",
              "      border-left-color: var(--fill-color);\n",
              "      border-top-color: var(--fill-color);\n",
              "    }\n",
              "    30% {\n",
              "      border-color: transparent;\n",
              "      border-left-color: var(--fill-color);\n",
              "      border-top-color: var(--fill-color);\n",
              "      border-right-color: var(--fill-color);\n",
              "    }\n",
              "    40% {\n",
              "      border-color: transparent;\n",
              "      border-right-color: var(--fill-color);\n",
              "      border-top-color: var(--fill-color);\n",
              "    }\n",
              "    60% {\n",
              "      border-color: transparent;\n",
              "      border-right-color: var(--fill-color);\n",
              "    }\n",
              "    80% {\n",
              "      border-color: transparent;\n",
              "      border-right-color: var(--fill-color);\n",
              "      border-bottom-color: var(--fill-color);\n",
              "    }\n",
              "    90% {\n",
              "      border-color: transparent;\n",
              "      border-bottom-color: var(--fill-color);\n",
              "    }\n",
              "  }\n",
              "</style>\n",
              "\n",
              "  <script>\n",
              "    async function quickchart(key) {\n",
              "      const quickchartButtonEl =\n",
              "        document.querySelector('#' + key + ' button');\n",
              "      quickchartButtonEl.disabled = true;  // To prevent multiple clicks.\n",
              "      quickchartButtonEl.classList.add('colab-df-spinner');\n",
              "      try {\n",
              "        const charts = await google.colab.kernel.invokeFunction(\n",
              "            'suggestCharts', [key], {});\n",
              "      } catch (error) {\n",
              "        console.error('Error during call to suggestCharts:', error);\n",
              "      }\n",
              "      quickchartButtonEl.classList.remove('colab-df-spinner');\n",
              "      quickchartButtonEl.classList.add('colab-df-quickchart-complete');\n",
              "    }\n",
              "    (() => {\n",
              "      let quickchartButtonEl =\n",
              "        document.querySelector('#df-0ca83526-1715-45f5-a457-27afd16481c2 button');\n",
              "      quickchartButtonEl.style.display =\n",
              "        google.colab.kernel.accessAllowed ? 'block' : 'none';\n",
              "    })();\n",
              "  </script>\n",
              "</div>\n",
              "\n",
              "    </div>\n",
              "  </div>\n"
            ],
            "application/vnd.google.colaboratory.intrinsic+json": {
              "type": "dataframe",
              "variable_name": "df_required_columns",
              "summary": "{\n  \"name\": \"df_required_columns\",\n  \"rows\": 4943,\n  \"fields\": [\n    {\n      \"column\": \"order_id_new\",\n      \"properties\": {\n        \"dtype\": \"number\",\n        \"std\": 1199,\n        \"min\": 0,\n        \"max\": 4165,\n        \"num_unique_values\": 4166,\n        \"samples\": [\n          677,\n          3336,\n          2857\n        ],\n        \"semantic_type\": \"\",\n        \"description\": \"\"\n      }\n    },\n    {\n      \"column\": \"metered_price\",\n      \"properties\": {\n        \"dtype\": \"number\",\n        \"std\": 15815.850351865141,\n        \"min\": 2.0,\n        \"max\": 194483.52,\n        \"num_unique_values\": 2395,\n        \"samples\": [\n          6527.04,\n          4.58,\n          31635.93\n        ],\n        \"semantic_type\": \"\",\n        \"description\": \"\"\n      }\n    },\n    {\n      \"column\": \"upfront_price\",\n      \"properties\": {\n        \"dtype\": \"number\",\n        \"std\": 17015.711911669106,\n        \"min\": 2.0,\n        \"max\": 595000.0,\n        \"num_unique_values\": 289,\n        \"samples\": [\n          2.8,\n          7.3,\n          12.8\n        ],\n        \"semantic_type\": \"\",\n        \"description\": \"\"\n      }\n    },\n    {\n      \"column\": \"distance\",\n      \"properties\": {\n        \"dtype\": \"number\",\n        \"std\": 10912,\n        \"min\": 0,\n        \"max\": 233190,\n        \"num_unique_values\": 3661,\n        \"samples\": [\n          10383,\n          16843,\n          21272\n        ],\n        \"semantic_type\": \"\",\n        \"description\": \"\"\n      }\n    },\n    {\n      \"column\": \"duration\",\n      \"properties\": {\n        \"dtype\": \"number\",\n        \"std\": 1650,\n        \"min\": 0,\n        \"max\": 22402,\n        \"num_unique_values\": 2308,\n        \"samples\": [\n          1047,\n          2211,\n          4978\n        ],\n        \"semantic_type\": \"\",\n        \"description\": \"\"\n      }\n    },\n    {\n      \"column\": \"gps_confidence\",\n      \"properties\": {\n        \"dtype\": \"number\",\n        \"std\": 0,\n        \"min\": 0,\n        \"max\": 1,\n        \"num_unique_values\": 2,\n        \"samples\": [\n          0,\n          1\n        ],\n        \"semantic_type\": \"\",\n        \"description\": \"\"\n      }\n    },\n    {\n      \"column\": \"dest_change_number\",\n      \"properties\": {\n        \"dtype\": \"number\",\n        \"std\": 0,\n        \"min\": 1,\n        \"max\": 12,\n        \"num_unique_values\": 9,\n        \"samples\": [\n          9,\n          2\n        ],\n        \"semantic_type\": \"\",\n        \"description\": \"\"\n      }\n    },\n    {\n      \"column\": \"prediction_price_type\",\n      \"properties\": {\n        \"dtype\": \"category\",\n        \"num_unique_values\": 4,\n        \"samples\": [\n          \"upfront_destination_changed\",\n          \"upfront_waypoint_changed\"\n        ],\n        \"semantic_type\": \"\",\n        \"description\": \"\"\n      }\n    },\n    {\n      \"column\": \"predicted_distance\",\n      \"properties\": {\n        \"dtype\": \"number\",\n        \"std\": 10548.801733154645,\n        \"min\": 0.0,\n        \"max\": 353538.0,\n        \"num_unique_values\": 3625,\n        \"samples\": [\n          4686.0,\n          4027.0\n        ],\n        \"semantic_type\": \"\",\n        \"description\": \"\"\n      }\n    },\n    {\n      \"column\": \"predicted_duration\",\n      \"properties\": {\n        \"dtype\": \"number\",\n        \"std\": 806.0985348624752,\n        \"min\": 0.0,\n        \"max\": 20992.0,\n        \"num_unique_values\": 1790,\n        \"samples\": [\n          661.0,\n          770.0\n        ],\n        \"semantic_type\": \"\",\n        \"description\": \"\"\n      }\n    },\n    {\n      \"column\": \"fraud_score\",\n      \"properties\": {\n        \"dtype\": \"number\",\n        \"std\": 1119.1898895236,\n        \"min\": -14225.0,\n        \"max\": 49.0,\n        \"num_unique_values\": 880,\n        \"samples\": [\n          -2576.0,\n          -770.0\n        ],\n        \"semantic_type\": \"\",\n        \"description\": \"\"\n      }\n    }\n  ]\n}"
            }
          },
          "metadata": {},
          "execution_count": 9
        }
      ]
    },
    {
      "cell_type": "markdown",
      "source": [
        "2. Information about the columns (Data-Type and Non-null value count)\n"
      ],
      "metadata": {
        "id": "0c5rWQqUqAHD"
      }
    },
    {
      "cell_type": "code",
      "source": [
        "df_required_columns.info()"
      ],
      "metadata": {
        "colab": {
          "base_uri": "https://localhost:8080/"
        },
        "id": "QYbqvzQi6xP-",
        "outputId": "08c4603f-3cb6-4b28-83e4-7f2f88e70b5a"
      },
      "execution_count": 10,
      "outputs": [
        {
          "output_type": "stream",
          "name": "stdout",
          "text": [
            "<class 'pandas.core.frame.DataFrame'>\n",
            "RangeIndex: 4943 entries, 0 to 4942\n",
            "Data columns (total 11 columns):\n",
            " #   Column                 Non-Null Count  Dtype  \n",
            "---  ------                 --------------  -----  \n",
            " 0   order_id_new           4943 non-null   int64  \n",
            " 1   metered_price          4923 non-null   float64\n",
            " 2   upfront_price          3409 non-null   float64\n",
            " 3   distance               4943 non-null   int64  \n",
            " 4   duration               4943 non-null   int64  \n",
            " 5   gps_confidence         4943 non-null   int64  \n",
            " 6   dest_change_number     4943 non-null   int64  \n",
            " 7   prediction_price_type  4923 non-null   object \n",
            " 8   predicted_distance     4923 non-null   float64\n",
            " 9   predicted_duration     4923 non-null   float64\n",
            " 10  fraud_score            2184 non-null   float64\n",
            "dtypes: float64(5), int64(5), object(1)\n",
            "memory usage: 424.9+ KB\n"
          ]
        }
      ]
    },
    {
      "cell_type": "markdown",
      "source": [
        "3. Identifying the null values present in the column"
      ],
      "metadata": {
        "id": "JBksYJzsqHlE"
      }
    },
    {
      "cell_type": "code",
      "source": [
        "df_required_columns.isnull().sum()"
      ],
      "metadata": {
        "colab": {
          "base_uri": "https://localhost:8080/"
        },
        "id": "dqbyC7o_60zt",
        "outputId": "151f09a8-f779-4b05-8e59-322e53d5632b"
      },
      "execution_count": 11,
      "outputs": [
        {
          "output_type": "execute_result",
          "data": {
            "text/plain": [
              "order_id_new                0\n",
              "metered_price              20\n",
              "upfront_price            1534\n",
              "distance                    0\n",
              "duration                    0\n",
              "gps_confidence              0\n",
              "dest_change_number          0\n",
              "prediction_price_type      20\n",
              "predicted_distance         20\n",
              "predicted_duration         20\n",
              "fraud_score              2759\n",
              "dtype: int64"
            ]
          },
          "metadata": {},
          "execution_count": 11
        }
      ]
    },
    {
      "cell_type": "markdown",
      "source": [
        "# Dealing with the Null Values"
      ],
      "metadata": {
        "id": "erchXJfE9AGb"
      }
    },
    {
      "cell_type": "markdown",
      "source": [
        "### ***Column Name : Metered Price***"
      ],
      "metadata": {
        "id": "8KX9ViGUqm66"
      }
    },
    {
      "cell_type": "markdown",
      "source": [
        "#####**Code to display the null values in metered_price column**"
      ],
      "metadata": {
        "id": "gn35JxDeq8o7"
      }
    },
    {
      "cell_type": "code",
      "source": [
        "df_required_columns[df_required_columns['metered_price'].isnull()]\n"
      ],
      "metadata": {
        "colab": {
          "base_uri": "https://localhost:8080/",
          "height": 689
        },
        "id": "H1rwCjOt8n5p",
        "outputId": "740e7741-cec6-49be-d207-5af12aafbd34"
      },
      "execution_count": 12,
      "outputs": [
        {
          "output_type": "execute_result",
          "data": {
            "text/plain": [
              "      order_id_new  metered_price  upfront_price  distance  duration  \\\n",
              "64             217            NaN            NaN      6249      2477   \n",
              "393           3066            NaN            NaN      5483       917   \n",
              "458           3320            NaN            NaN      3364       323   \n",
              "513           1166            NaN            NaN     21997      1742   \n",
              "779           1759            NaN            NaN     10309       849   \n",
              "998            861            NaN            NaN      1424       416   \n",
              "1206          1349            NaN            NaN     11206      1268   \n",
              "1287          2012            NaN            NaN      3717       713   \n",
              "1340          1112            NaN            NaN      4114       528   \n",
              "1582           460            NaN            NaN      6718       764   \n",
              "1603          2675            NaN            NaN      3014      2339   \n",
              "1919          3305            NaN            NaN     15263      1226   \n",
              "2213          1459            NaN            NaN      4729       685   \n",
              "2321           834            NaN            NaN      8376       826   \n",
              "2603          2675            NaN            NaN      3014      2339   \n",
              "2649           844            NaN            NaN         0         0   \n",
              "2717          3880            NaN            NaN     18237      5041   \n",
              "3166             5            NaN            NaN      3486       296   \n",
              "4339          1344            NaN            NaN      2686       500   \n",
              "4747          4113            NaN            NaN     19929      2094   \n",
              "\n",
              "      gps_confidence  dest_change_number prediction_price_type  \\\n",
              "64                 1                   1                   NaN   \n",
              "393                1                   1                   NaN   \n",
              "458                0                   1                   NaN   \n",
              "513                1                   1                   NaN   \n",
              "779                1                   1                   NaN   \n",
              "998                1                   1                   NaN   \n",
              "1206               1                   1                   NaN   \n",
              "1287               1                   1                   NaN   \n",
              "1340               1                   1                   NaN   \n",
              "1582               1                   1                   NaN   \n",
              "1603               1                   1                   NaN   \n",
              "1919               1                   2                   NaN   \n",
              "2213               1                   2                   NaN   \n",
              "2321               1                   1                   NaN   \n",
              "2603               1                   1                   NaN   \n",
              "2649               0                   1                   NaN   \n",
              "2717               1                   4                   NaN   \n",
              "3166               1                   1                   NaN   \n",
              "4339               1                   2                   NaN   \n",
              "4747               1                   2                   NaN   \n",
              "\n",
              "      predicted_distance  predicted_duration  fraud_score  \n",
              "64                   NaN                 NaN          NaN  \n",
              "393                  NaN                 NaN          NaN  \n",
              "458                  NaN                 NaN          NaN  \n",
              "513                  NaN                 NaN        -74.0  \n",
              "779                  NaN                 NaN          NaN  \n",
              "998                  NaN                 NaN          NaN  \n",
              "1206                 NaN                 NaN      -1270.0  \n",
              "1287                 NaN                 NaN          NaN  \n",
              "1340                 NaN                 NaN          NaN  \n",
              "1582                 NaN                 NaN          NaN  \n",
              "1603                 NaN                 NaN          NaN  \n",
              "1919                 NaN                 NaN          NaN  \n",
              "2213                 NaN                 NaN          NaN  \n",
              "2321                 NaN                 NaN          NaN  \n",
              "2603                 NaN                 NaN          NaN  \n",
              "2649                 NaN                 NaN          NaN  \n",
              "2717                 NaN                 NaN          NaN  \n",
              "3166                 NaN                 NaN          NaN  \n",
              "4339                 NaN                 NaN          NaN  \n",
              "4747                 NaN                 NaN          NaN  "
            ],
            "text/html": [
              "\n",
              "  <div id=\"df-8ae54942-1273-4ea6-b2c3-b22e53f52c0f\" class=\"colab-df-container\">\n",
              "    <div>\n",
              "<style scoped>\n",
              "    .dataframe tbody tr th:only-of-type {\n",
              "        vertical-align: middle;\n",
              "    }\n",
              "\n",
              "    .dataframe tbody tr th {\n",
              "        vertical-align: top;\n",
              "    }\n",
              "\n",
              "    .dataframe thead th {\n",
              "        text-align: right;\n",
              "    }\n",
              "</style>\n",
              "<table border=\"1\" class=\"dataframe\">\n",
              "  <thead>\n",
              "    <tr style=\"text-align: right;\">\n",
              "      <th></th>\n",
              "      <th>order_id_new</th>\n",
              "      <th>metered_price</th>\n",
              "      <th>upfront_price</th>\n",
              "      <th>distance</th>\n",
              "      <th>duration</th>\n",
              "      <th>gps_confidence</th>\n",
              "      <th>dest_change_number</th>\n",
              "      <th>prediction_price_type</th>\n",
              "      <th>predicted_distance</th>\n",
              "      <th>predicted_duration</th>\n",
              "      <th>fraud_score</th>\n",
              "    </tr>\n",
              "  </thead>\n",
              "  <tbody>\n",
              "    <tr>\n",
              "      <th>64</th>\n",
              "      <td>217</td>\n",
              "      <td>NaN</td>\n",
              "      <td>NaN</td>\n",
              "      <td>6249</td>\n",
              "      <td>2477</td>\n",
              "      <td>1</td>\n",
              "      <td>1</td>\n",
              "      <td>NaN</td>\n",
              "      <td>NaN</td>\n",
              "      <td>NaN</td>\n",
              "      <td>NaN</td>\n",
              "    </tr>\n",
              "    <tr>\n",
              "      <th>393</th>\n",
              "      <td>3066</td>\n",
              "      <td>NaN</td>\n",
              "      <td>NaN</td>\n",
              "      <td>5483</td>\n",
              "      <td>917</td>\n",
              "      <td>1</td>\n",
              "      <td>1</td>\n",
              "      <td>NaN</td>\n",
              "      <td>NaN</td>\n",
              "      <td>NaN</td>\n",
              "      <td>NaN</td>\n",
              "    </tr>\n",
              "    <tr>\n",
              "      <th>458</th>\n",
              "      <td>3320</td>\n",
              "      <td>NaN</td>\n",
              "      <td>NaN</td>\n",
              "      <td>3364</td>\n",
              "      <td>323</td>\n",
              "      <td>0</td>\n",
              "      <td>1</td>\n",
              "      <td>NaN</td>\n",
              "      <td>NaN</td>\n",
              "      <td>NaN</td>\n",
              "      <td>NaN</td>\n",
              "    </tr>\n",
              "    <tr>\n",
              "      <th>513</th>\n",
              "      <td>1166</td>\n",
              "      <td>NaN</td>\n",
              "      <td>NaN</td>\n",
              "      <td>21997</td>\n",
              "      <td>1742</td>\n",
              "      <td>1</td>\n",
              "      <td>1</td>\n",
              "      <td>NaN</td>\n",
              "      <td>NaN</td>\n",
              "      <td>NaN</td>\n",
              "      <td>-74.0</td>\n",
              "    </tr>\n",
              "    <tr>\n",
              "      <th>779</th>\n",
              "      <td>1759</td>\n",
              "      <td>NaN</td>\n",
              "      <td>NaN</td>\n",
              "      <td>10309</td>\n",
              "      <td>849</td>\n",
              "      <td>1</td>\n",
              "      <td>1</td>\n",
              "      <td>NaN</td>\n",
              "      <td>NaN</td>\n",
              "      <td>NaN</td>\n",
              "      <td>NaN</td>\n",
              "    </tr>\n",
              "    <tr>\n",
              "      <th>998</th>\n",
              "      <td>861</td>\n",
              "      <td>NaN</td>\n",
              "      <td>NaN</td>\n",
              "      <td>1424</td>\n",
              "      <td>416</td>\n",
              "      <td>1</td>\n",
              "      <td>1</td>\n",
              "      <td>NaN</td>\n",
              "      <td>NaN</td>\n",
              "      <td>NaN</td>\n",
              "      <td>NaN</td>\n",
              "    </tr>\n",
              "    <tr>\n",
              "      <th>1206</th>\n",
              "      <td>1349</td>\n",
              "      <td>NaN</td>\n",
              "      <td>NaN</td>\n",
              "      <td>11206</td>\n",
              "      <td>1268</td>\n",
              "      <td>1</td>\n",
              "      <td>1</td>\n",
              "      <td>NaN</td>\n",
              "      <td>NaN</td>\n",
              "      <td>NaN</td>\n",
              "      <td>-1270.0</td>\n",
              "    </tr>\n",
              "    <tr>\n",
              "      <th>1287</th>\n",
              "      <td>2012</td>\n",
              "      <td>NaN</td>\n",
              "      <td>NaN</td>\n",
              "      <td>3717</td>\n",
              "      <td>713</td>\n",
              "      <td>1</td>\n",
              "      <td>1</td>\n",
              "      <td>NaN</td>\n",
              "      <td>NaN</td>\n",
              "      <td>NaN</td>\n",
              "      <td>NaN</td>\n",
              "    </tr>\n",
              "    <tr>\n",
              "      <th>1340</th>\n",
              "      <td>1112</td>\n",
              "      <td>NaN</td>\n",
              "      <td>NaN</td>\n",
              "      <td>4114</td>\n",
              "      <td>528</td>\n",
              "      <td>1</td>\n",
              "      <td>1</td>\n",
              "      <td>NaN</td>\n",
              "      <td>NaN</td>\n",
              "      <td>NaN</td>\n",
              "      <td>NaN</td>\n",
              "    </tr>\n",
              "    <tr>\n",
              "      <th>1582</th>\n",
              "      <td>460</td>\n",
              "      <td>NaN</td>\n",
              "      <td>NaN</td>\n",
              "      <td>6718</td>\n",
              "      <td>764</td>\n",
              "      <td>1</td>\n",
              "      <td>1</td>\n",
              "      <td>NaN</td>\n",
              "      <td>NaN</td>\n",
              "      <td>NaN</td>\n",
              "      <td>NaN</td>\n",
              "    </tr>\n",
              "    <tr>\n",
              "      <th>1603</th>\n",
              "      <td>2675</td>\n",
              "      <td>NaN</td>\n",
              "      <td>NaN</td>\n",
              "      <td>3014</td>\n",
              "      <td>2339</td>\n",
              "      <td>1</td>\n",
              "      <td>1</td>\n",
              "      <td>NaN</td>\n",
              "      <td>NaN</td>\n",
              "      <td>NaN</td>\n",
              "      <td>NaN</td>\n",
              "    </tr>\n",
              "    <tr>\n",
              "      <th>1919</th>\n",
              "      <td>3305</td>\n",
              "      <td>NaN</td>\n",
              "      <td>NaN</td>\n",
              "      <td>15263</td>\n",
              "      <td>1226</td>\n",
              "      <td>1</td>\n",
              "      <td>2</td>\n",
              "      <td>NaN</td>\n",
              "      <td>NaN</td>\n",
              "      <td>NaN</td>\n",
              "      <td>NaN</td>\n",
              "    </tr>\n",
              "    <tr>\n",
              "      <th>2213</th>\n",
              "      <td>1459</td>\n",
              "      <td>NaN</td>\n",
              "      <td>NaN</td>\n",
              "      <td>4729</td>\n",
              "      <td>685</td>\n",
              "      <td>1</td>\n",
              "      <td>2</td>\n",
              "      <td>NaN</td>\n",
              "      <td>NaN</td>\n",
              "      <td>NaN</td>\n",
              "      <td>NaN</td>\n",
              "    </tr>\n",
              "    <tr>\n",
              "      <th>2321</th>\n",
              "      <td>834</td>\n",
              "      <td>NaN</td>\n",
              "      <td>NaN</td>\n",
              "      <td>8376</td>\n",
              "      <td>826</td>\n",
              "      <td>1</td>\n",
              "      <td>1</td>\n",
              "      <td>NaN</td>\n",
              "      <td>NaN</td>\n",
              "      <td>NaN</td>\n",
              "      <td>NaN</td>\n",
              "    </tr>\n",
              "    <tr>\n",
              "      <th>2603</th>\n",
              "      <td>2675</td>\n",
              "      <td>NaN</td>\n",
              "      <td>NaN</td>\n",
              "      <td>3014</td>\n",
              "      <td>2339</td>\n",
              "      <td>1</td>\n",
              "      <td>1</td>\n",
              "      <td>NaN</td>\n",
              "      <td>NaN</td>\n",
              "      <td>NaN</td>\n",
              "      <td>NaN</td>\n",
              "    </tr>\n",
              "    <tr>\n",
              "      <th>2649</th>\n",
              "      <td>844</td>\n",
              "      <td>NaN</td>\n",
              "      <td>NaN</td>\n",
              "      <td>0</td>\n",
              "      <td>0</td>\n",
              "      <td>0</td>\n",
              "      <td>1</td>\n",
              "      <td>NaN</td>\n",
              "      <td>NaN</td>\n",
              "      <td>NaN</td>\n",
              "      <td>NaN</td>\n",
              "    </tr>\n",
              "    <tr>\n",
              "      <th>2717</th>\n",
              "      <td>3880</td>\n",
              "      <td>NaN</td>\n",
              "      <td>NaN</td>\n",
              "      <td>18237</td>\n",
              "      <td>5041</td>\n",
              "      <td>1</td>\n",
              "      <td>4</td>\n",
              "      <td>NaN</td>\n",
              "      <td>NaN</td>\n",
              "      <td>NaN</td>\n",
              "      <td>NaN</td>\n",
              "    </tr>\n",
              "    <tr>\n",
              "      <th>3166</th>\n",
              "      <td>5</td>\n",
              "      <td>NaN</td>\n",
              "      <td>NaN</td>\n",
              "      <td>3486</td>\n",
              "      <td>296</td>\n",
              "      <td>1</td>\n",
              "      <td>1</td>\n",
              "      <td>NaN</td>\n",
              "      <td>NaN</td>\n",
              "      <td>NaN</td>\n",
              "      <td>NaN</td>\n",
              "    </tr>\n",
              "    <tr>\n",
              "      <th>4339</th>\n",
              "      <td>1344</td>\n",
              "      <td>NaN</td>\n",
              "      <td>NaN</td>\n",
              "      <td>2686</td>\n",
              "      <td>500</td>\n",
              "      <td>1</td>\n",
              "      <td>2</td>\n",
              "      <td>NaN</td>\n",
              "      <td>NaN</td>\n",
              "      <td>NaN</td>\n",
              "      <td>NaN</td>\n",
              "    </tr>\n",
              "    <tr>\n",
              "      <th>4747</th>\n",
              "      <td>4113</td>\n",
              "      <td>NaN</td>\n",
              "      <td>NaN</td>\n",
              "      <td>19929</td>\n",
              "      <td>2094</td>\n",
              "      <td>1</td>\n",
              "      <td>2</td>\n",
              "      <td>NaN</td>\n",
              "      <td>NaN</td>\n",
              "      <td>NaN</td>\n",
              "      <td>NaN</td>\n",
              "    </tr>\n",
              "  </tbody>\n",
              "</table>\n",
              "</div>\n",
              "    <div class=\"colab-df-buttons\">\n",
              "\n",
              "  <div class=\"colab-df-container\">\n",
              "    <button class=\"colab-df-convert\" onclick=\"convertToInteractive('df-8ae54942-1273-4ea6-b2c3-b22e53f52c0f')\"\n",
              "            title=\"Convert this dataframe to an interactive table.\"\n",
              "            style=\"display:none;\">\n",
              "\n",
              "  <svg xmlns=\"http://www.w3.org/2000/svg\" height=\"24px\" viewBox=\"0 -960 960 960\">\n",
              "    <path d=\"M120-120v-720h720v720H120Zm60-500h600v-160H180v160Zm220 220h160v-160H400v160Zm0 220h160v-160H400v160ZM180-400h160v-160H180v160Zm440 0h160v-160H620v160ZM180-180h160v-160H180v160Zm440 0h160v-160H620v160Z\"/>\n",
              "  </svg>\n",
              "    </button>\n",
              "\n",
              "  <style>\n",
              "    .colab-df-container {\n",
              "      display:flex;\n",
              "      gap: 12px;\n",
              "    }\n",
              "\n",
              "    .colab-df-convert {\n",
              "      background-color: #E8F0FE;\n",
              "      border: none;\n",
              "      border-radius: 50%;\n",
              "      cursor: pointer;\n",
              "      display: none;\n",
              "      fill: #1967D2;\n",
              "      height: 32px;\n",
              "      padding: 0 0 0 0;\n",
              "      width: 32px;\n",
              "    }\n",
              "\n",
              "    .colab-df-convert:hover {\n",
              "      background-color: #E2EBFA;\n",
              "      box-shadow: 0px 1px 2px rgba(60, 64, 67, 0.3), 0px 1px 3px 1px rgba(60, 64, 67, 0.15);\n",
              "      fill: #174EA6;\n",
              "    }\n",
              "\n",
              "    .colab-df-buttons div {\n",
              "      margin-bottom: 4px;\n",
              "    }\n",
              "\n",
              "    [theme=dark] .colab-df-convert {\n",
              "      background-color: #3B4455;\n",
              "      fill: #D2E3FC;\n",
              "    }\n",
              "\n",
              "    [theme=dark] .colab-df-convert:hover {\n",
              "      background-color: #434B5C;\n",
              "      box-shadow: 0px 1px 3px 1px rgba(0, 0, 0, 0.15);\n",
              "      filter: drop-shadow(0px 1px 2px rgba(0, 0, 0, 0.3));\n",
              "      fill: #FFFFFF;\n",
              "    }\n",
              "  </style>\n",
              "\n",
              "    <script>\n",
              "      const buttonEl =\n",
              "        document.querySelector('#df-8ae54942-1273-4ea6-b2c3-b22e53f52c0f button.colab-df-convert');\n",
              "      buttonEl.style.display =\n",
              "        google.colab.kernel.accessAllowed ? 'block' : 'none';\n",
              "\n",
              "      async function convertToInteractive(key) {\n",
              "        const element = document.querySelector('#df-8ae54942-1273-4ea6-b2c3-b22e53f52c0f');\n",
              "        const dataTable =\n",
              "          await google.colab.kernel.invokeFunction('convertToInteractive',\n",
              "                                                    [key], {});\n",
              "        if (!dataTable) return;\n",
              "\n",
              "        const docLinkHtml = 'Like what you see? Visit the ' +\n",
              "          '<a target=\"_blank\" href=https://colab.research.google.com/notebooks/data_table.ipynb>data table notebook</a>'\n",
              "          + ' to learn more about interactive tables.';\n",
              "        element.innerHTML = '';\n",
              "        dataTable['output_type'] = 'display_data';\n",
              "        await google.colab.output.renderOutput(dataTable, element);\n",
              "        const docLink = document.createElement('div');\n",
              "        docLink.innerHTML = docLinkHtml;\n",
              "        element.appendChild(docLink);\n",
              "      }\n",
              "    </script>\n",
              "  </div>\n",
              "\n",
              "\n",
              "<div id=\"df-c36c38c1-391b-4e58-a37f-409be779b4c8\">\n",
              "  <button class=\"colab-df-quickchart\" onclick=\"quickchart('df-c36c38c1-391b-4e58-a37f-409be779b4c8')\"\n",
              "            title=\"Suggest charts\"\n",
              "            style=\"display:none;\">\n",
              "\n",
              "<svg xmlns=\"http://www.w3.org/2000/svg\" height=\"24px\"viewBox=\"0 0 24 24\"\n",
              "     width=\"24px\">\n",
              "    <g>\n",
              "        <path d=\"M19 3H5c-1.1 0-2 .9-2 2v14c0 1.1.9 2 2 2h14c1.1 0 2-.9 2-2V5c0-1.1-.9-2-2-2zM9 17H7v-7h2v7zm4 0h-2V7h2v10zm4 0h-2v-4h2v4z\"/>\n",
              "    </g>\n",
              "</svg>\n",
              "  </button>\n",
              "\n",
              "<style>\n",
              "  .colab-df-quickchart {\n",
              "      --bg-color: #E8F0FE;\n",
              "      --fill-color: #1967D2;\n",
              "      --hover-bg-color: #E2EBFA;\n",
              "      --hover-fill-color: #174EA6;\n",
              "      --disabled-fill-color: #AAA;\n",
              "      --disabled-bg-color: #DDD;\n",
              "  }\n",
              "\n",
              "  [theme=dark] .colab-df-quickchart {\n",
              "      --bg-color: #3B4455;\n",
              "      --fill-color: #D2E3FC;\n",
              "      --hover-bg-color: #434B5C;\n",
              "      --hover-fill-color: #FFFFFF;\n",
              "      --disabled-bg-color: #3B4455;\n",
              "      --disabled-fill-color: #666;\n",
              "  }\n",
              "\n",
              "  .colab-df-quickchart {\n",
              "    background-color: var(--bg-color);\n",
              "    border: none;\n",
              "    border-radius: 50%;\n",
              "    cursor: pointer;\n",
              "    display: none;\n",
              "    fill: var(--fill-color);\n",
              "    height: 32px;\n",
              "    padding: 0;\n",
              "    width: 32px;\n",
              "  }\n",
              "\n",
              "  .colab-df-quickchart:hover {\n",
              "    background-color: var(--hover-bg-color);\n",
              "    box-shadow: 0 1px 2px rgba(60, 64, 67, 0.3), 0 1px 3px 1px rgba(60, 64, 67, 0.15);\n",
              "    fill: var(--button-hover-fill-color);\n",
              "  }\n",
              "\n",
              "  .colab-df-quickchart-complete:disabled,\n",
              "  .colab-df-quickchart-complete:disabled:hover {\n",
              "    background-color: var(--disabled-bg-color);\n",
              "    fill: var(--disabled-fill-color);\n",
              "    box-shadow: none;\n",
              "  }\n",
              "\n",
              "  .colab-df-spinner {\n",
              "    border: 2px solid var(--fill-color);\n",
              "    border-color: transparent;\n",
              "    border-bottom-color: var(--fill-color);\n",
              "    animation:\n",
              "      spin 1s steps(1) infinite;\n",
              "  }\n",
              "\n",
              "  @keyframes spin {\n",
              "    0% {\n",
              "      border-color: transparent;\n",
              "      border-bottom-color: var(--fill-color);\n",
              "      border-left-color: var(--fill-color);\n",
              "    }\n",
              "    20% {\n",
              "      border-color: transparent;\n",
              "      border-left-color: var(--fill-color);\n",
              "      border-top-color: var(--fill-color);\n",
              "    }\n",
              "    30% {\n",
              "      border-color: transparent;\n",
              "      border-left-color: var(--fill-color);\n",
              "      border-top-color: var(--fill-color);\n",
              "      border-right-color: var(--fill-color);\n",
              "    }\n",
              "    40% {\n",
              "      border-color: transparent;\n",
              "      border-right-color: var(--fill-color);\n",
              "      border-top-color: var(--fill-color);\n",
              "    }\n",
              "    60% {\n",
              "      border-color: transparent;\n",
              "      border-right-color: var(--fill-color);\n",
              "    }\n",
              "    80% {\n",
              "      border-color: transparent;\n",
              "      border-right-color: var(--fill-color);\n",
              "      border-bottom-color: var(--fill-color);\n",
              "    }\n",
              "    90% {\n",
              "      border-color: transparent;\n",
              "      border-bottom-color: var(--fill-color);\n",
              "    }\n",
              "  }\n",
              "</style>\n",
              "\n",
              "  <script>\n",
              "    async function quickchart(key) {\n",
              "      const quickchartButtonEl =\n",
              "        document.querySelector('#' + key + ' button');\n",
              "      quickchartButtonEl.disabled = true;  // To prevent multiple clicks.\n",
              "      quickchartButtonEl.classList.add('colab-df-spinner');\n",
              "      try {\n",
              "        const charts = await google.colab.kernel.invokeFunction(\n",
              "            'suggestCharts', [key], {});\n",
              "      } catch (error) {\n",
              "        console.error('Error during call to suggestCharts:', error);\n",
              "      }\n",
              "      quickchartButtonEl.classList.remove('colab-df-spinner');\n",
              "      quickchartButtonEl.classList.add('colab-df-quickchart-complete');\n",
              "    }\n",
              "    (() => {\n",
              "      let quickchartButtonEl =\n",
              "        document.querySelector('#df-c36c38c1-391b-4e58-a37f-409be779b4c8 button');\n",
              "      quickchartButtonEl.style.display =\n",
              "        google.colab.kernel.accessAllowed ? 'block' : 'none';\n",
              "    })();\n",
              "  </script>\n",
              "</div>\n",
              "\n",
              "    </div>\n",
              "  </div>\n"
            ],
            "application/vnd.google.colaboratory.intrinsic+json": {
              "type": "dataframe",
              "repr_error": "'str' object has no attribute 'empty'"
            }
          },
          "metadata": {},
          "execution_count": 12
        }
      ]
    },
    {
      "cell_type": "markdown",
      "source": [
        "#####**Code to delete the null values in metered_price column**"
      ],
      "metadata": {
        "id": "3M1DKtkYrEga"
      }
    },
    {
      "cell_type": "code",
      "source": [
        "df_required_columns = df_required_columns.dropna(subset=['metered_price'])\n"
      ],
      "metadata": {
        "id": "kfz3uEMC9Klw"
      },
      "execution_count": 13,
      "outputs": []
    },
    {
      "cell_type": "code",
      "source": [
        "df_required_columns.isnull().sum()"
      ],
      "metadata": {
        "colab": {
          "base_uri": "https://localhost:8080/"
        },
        "id": "oKvMFcci9eGs",
        "outputId": "650d31a3-8a23-4124-9e1f-cdbc8561645f"
      },
      "execution_count": 14,
      "outputs": [
        {
          "output_type": "execute_result",
          "data": {
            "text/plain": [
              "order_id_new                0\n",
              "metered_price               0\n",
              "upfront_price            1514\n",
              "distance                    0\n",
              "duration                    0\n",
              "gps_confidence              0\n",
              "dest_change_number          0\n",
              "prediction_price_type       0\n",
              "predicted_distance          0\n",
              "predicted_duration          0\n",
              "fraud_score              2741\n",
              "dtype: int64"
            ]
          },
          "metadata": {},
          "execution_count": 14
        }
      ]
    },
    {
      "cell_type": "markdown",
      "source": [
        "### ***Column Name : Fraud Score***"
      ],
      "metadata": {
        "id": "BK7DN_1HRXEc"
      }
    },
    {
      "cell_type": "markdown",
      "source": [
        "#####**Code to display the null values in fraud score column**"
      ],
      "metadata": {
        "id": "ObwkeRPSPn1t"
      }
    },
    {
      "cell_type": "code",
      "source": [
        "df_required_columns[df_required_columns['fraud_score'].isnull()]"
      ],
      "metadata": {
        "colab": {
          "base_uri": "https://localhost:8080/",
          "height": 439
        },
        "id": "4Vp39nwQ9lxM",
        "outputId": "4d27d2cc-6372-4ae9-aab7-59a190283d88"
      },
      "execution_count": 15,
      "outputs": [
        {
          "output_type": "execute_result",
          "data": {
            "text/plain": [
              "      order_id_new  metered_price  upfront_price  distance  duration  \\\n",
              "1              618           6.09            3.6      5698       493   \n",
              "3              313       72871.72            NaN     49748      1400   \n",
              "4             1176       20032.50        19500.0     10273      5067   \n",
              "5             1209           6.11            6.3      4924       513   \n",
              "6              761       20753.20        10500.0     10459      1874   \n",
              "...            ...            ...            ...       ...       ...   \n",
              "4930          4109           4.79            4.2      4566       860   \n",
              "4934          3850           2.40            2.5      1815       334   \n",
              "4935           465        6000.00         6000.0      1822       275   \n",
              "4939          2192        8789.28            NaN      5712      1173   \n",
              "4942           759       29244.10        16000.0     17825      4544   \n",
              "\n",
              "      gps_confidence  dest_change_number        prediction_price_type  \\\n",
              "1                  1                   1                      upfront   \n",
              "3                  0                   2  upfront_destination_changed   \n",
              "4                  1                   1                      upfront   \n",
              "5                  1                   1                      upfront   \n",
              "6                  1                   1                      upfront   \n",
              "...              ...                 ...                          ...   \n",
              "4930               1                   1                      upfront   \n",
              "4934               1                   1                      upfront   \n",
              "4935               1                   1                      upfront   \n",
              "4939               0                   1                   prediction   \n",
              "4942               1                   2                      upfront   \n",
              "\n",
              "      predicted_distance  predicted_duration  fraud_score  \n",
              "1                 2286.0               360.0          NaN  \n",
              "3                 3017.0               600.0          NaN  \n",
              "4                14236.0              2778.0          NaN  \n",
              "5                 4882.0               562.0          NaN  \n",
              "6                 4892.0               698.0          NaN  \n",
              "...                  ...                 ...          ...  \n",
              "4930              4300.0               665.0          NaN  \n",
              "4934              1816.0               456.0          NaN  \n",
              "4935              1756.0               344.0          NaN  \n",
              "4939              5712.0              1093.0          NaN  \n",
              "4942             12427.0              1495.0          NaN  \n",
              "\n",
              "[2741 rows x 11 columns]"
            ],
            "text/html": [
              "\n",
              "  <div id=\"df-a6ed71a2-8516-4d99-8a10-52086f1d977e\" class=\"colab-df-container\">\n",
              "    <div>\n",
              "<style scoped>\n",
              "    .dataframe tbody tr th:only-of-type {\n",
              "        vertical-align: middle;\n",
              "    }\n",
              "\n",
              "    .dataframe tbody tr th {\n",
              "        vertical-align: top;\n",
              "    }\n",
              "\n",
              "    .dataframe thead th {\n",
              "        text-align: right;\n",
              "    }\n",
              "</style>\n",
              "<table border=\"1\" class=\"dataframe\">\n",
              "  <thead>\n",
              "    <tr style=\"text-align: right;\">\n",
              "      <th></th>\n",
              "      <th>order_id_new</th>\n",
              "      <th>metered_price</th>\n",
              "      <th>upfront_price</th>\n",
              "      <th>distance</th>\n",
              "      <th>duration</th>\n",
              "      <th>gps_confidence</th>\n",
              "      <th>dest_change_number</th>\n",
              "      <th>prediction_price_type</th>\n",
              "      <th>predicted_distance</th>\n",
              "      <th>predicted_duration</th>\n",
              "      <th>fraud_score</th>\n",
              "    </tr>\n",
              "  </thead>\n",
              "  <tbody>\n",
              "    <tr>\n",
              "      <th>1</th>\n",
              "      <td>618</td>\n",
              "      <td>6.09</td>\n",
              "      <td>3.6</td>\n",
              "      <td>5698</td>\n",
              "      <td>493</td>\n",
              "      <td>1</td>\n",
              "      <td>1</td>\n",
              "      <td>upfront</td>\n",
              "      <td>2286.0</td>\n",
              "      <td>360.0</td>\n",
              "      <td>NaN</td>\n",
              "    </tr>\n",
              "    <tr>\n",
              "      <th>3</th>\n",
              "      <td>313</td>\n",
              "      <td>72871.72</td>\n",
              "      <td>NaN</td>\n",
              "      <td>49748</td>\n",
              "      <td>1400</td>\n",
              "      <td>0</td>\n",
              "      <td>2</td>\n",
              "      <td>upfront_destination_changed</td>\n",
              "      <td>3017.0</td>\n",
              "      <td>600.0</td>\n",
              "      <td>NaN</td>\n",
              "    </tr>\n",
              "    <tr>\n",
              "      <th>4</th>\n",
              "      <td>1176</td>\n",
              "      <td>20032.50</td>\n",
              "      <td>19500.0</td>\n",
              "      <td>10273</td>\n",
              "      <td>5067</td>\n",
              "      <td>1</td>\n",
              "      <td>1</td>\n",
              "      <td>upfront</td>\n",
              "      <td>14236.0</td>\n",
              "      <td>2778.0</td>\n",
              "      <td>NaN</td>\n",
              "    </tr>\n",
              "    <tr>\n",
              "      <th>5</th>\n",
              "      <td>1209</td>\n",
              "      <td>6.11</td>\n",
              "      <td>6.3</td>\n",
              "      <td>4924</td>\n",
              "      <td>513</td>\n",
              "      <td>1</td>\n",
              "      <td>1</td>\n",
              "      <td>upfront</td>\n",
              "      <td>4882.0</td>\n",
              "      <td>562.0</td>\n",
              "      <td>NaN</td>\n",
              "    </tr>\n",
              "    <tr>\n",
              "      <th>6</th>\n",
              "      <td>761</td>\n",
              "      <td>20753.20</td>\n",
              "      <td>10500.0</td>\n",
              "      <td>10459</td>\n",
              "      <td>1874</td>\n",
              "      <td>1</td>\n",
              "      <td>1</td>\n",
              "      <td>upfront</td>\n",
              "      <td>4892.0</td>\n",
              "      <td>698.0</td>\n",
              "      <td>NaN</td>\n",
              "    </tr>\n",
              "    <tr>\n",
              "      <th>...</th>\n",
              "      <td>...</td>\n",
              "      <td>...</td>\n",
              "      <td>...</td>\n",
              "      <td>...</td>\n",
              "      <td>...</td>\n",
              "      <td>...</td>\n",
              "      <td>...</td>\n",
              "      <td>...</td>\n",
              "      <td>...</td>\n",
              "      <td>...</td>\n",
              "      <td>...</td>\n",
              "    </tr>\n",
              "    <tr>\n",
              "      <th>4930</th>\n",
              "      <td>4109</td>\n",
              "      <td>4.79</td>\n",
              "      <td>4.2</td>\n",
              "      <td>4566</td>\n",
              "      <td>860</td>\n",
              "      <td>1</td>\n",
              "      <td>1</td>\n",
              "      <td>upfront</td>\n",
              "      <td>4300.0</td>\n",
              "      <td>665.0</td>\n",
              "      <td>NaN</td>\n",
              "    </tr>\n",
              "    <tr>\n",
              "      <th>4934</th>\n",
              "      <td>3850</td>\n",
              "      <td>2.40</td>\n",
              "      <td>2.5</td>\n",
              "      <td>1815</td>\n",
              "      <td>334</td>\n",
              "      <td>1</td>\n",
              "      <td>1</td>\n",
              "      <td>upfront</td>\n",
              "      <td>1816.0</td>\n",
              "      <td>456.0</td>\n",
              "      <td>NaN</td>\n",
              "    </tr>\n",
              "    <tr>\n",
              "      <th>4935</th>\n",
              "      <td>465</td>\n",
              "      <td>6000.00</td>\n",
              "      <td>6000.0</td>\n",
              "      <td>1822</td>\n",
              "      <td>275</td>\n",
              "      <td>1</td>\n",
              "      <td>1</td>\n",
              "      <td>upfront</td>\n",
              "      <td>1756.0</td>\n",
              "      <td>344.0</td>\n",
              "      <td>NaN</td>\n",
              "    </tr>\n",
              "    <tr>\n",
              "      <th>4939</th>\n",
              "      <td>2192</td>\n",
              "      <td>8789.28</td>\n",
              "      <td>NaN</td>\n",
              "      <td>5712</td>\n",
              "      <td>1173</td>\n",
              "      <td>0</td>\n",
              "      <td>1</td>\n",
              "      <td>prediction</td>\n",
              "      <td>5712.0</td>\n",
              "      <td>1093.0</td>\n",
              "      <td>NaN</td>\n",
              "    </tr>\n",
              "    <tr>\n",
              "      <th>4942</th>\n",
              "      <td>759</td>\n",
              "      <td>29244.10</td>\n",
              "      <td>16000.0</td>\n",
              "      <td>17825</td>\n",
              "      <td>4544</td>\n",
              "      <td>1</td>\n",
              "      <td>2</td>\n",
              "      <td>upfront</td>\n",
              "      <td>12427.0</td>\n",
              "      <td>1495.0</td>\n",
              "      <td>NaN</td>\n",
              "    </tr>\n",
              "  </tbody>\n",
              "</table>\n",
              "<p>2741 rows × 11 columns</p>\n",
              "</div>\n",
              "    <div class=\"colab-df-buttons\">\n",
              "\n",
              "  <div class=\"colab-df-container\">\n",
              "    <button class=\"colab-df-convert\" onclick=\"convertToInteractive('df-a6ed71a2-8516-4d99-8a10-52086f1d977e')\"\n",
              "            title=\"Convert this dataframe to an interactive table.\"\n",
              "            style=\"display:none;\">\n",
              "\n",
              "  <svg xmlns=\"http://www.w3.org/2000/svg\" height=\"24px\" viewBox=\"0 -960 960 960\">\n",
              "    <path d=\"M120-120v-720h720v720H120Zm60-500h600v-160H180v160Zm220 220h160v-160H400v160Zm0 220h160v-160H400v160ZM180-400h160v-160H180v160Zm440 0h160v-160H620v160ZM180-180h160v-160H180v160Zm440 0h160v-160H620v160Z\"/>\n",
              "  </svg>\n",
              "    </button>\n",
              "\n",
              "  <style>\n",
              "    .colab-df-container {\n",
              "      display:flex;\n",
              "      gap: 12px;\n",
              "    }\n",
              "\n",
              "    .colab-df-convert {\n",
              "      background-color: #E8F0FE;\n",
              "      border: none;\n",
              "      border-radius: 50%;\n",
              "      cursor: pointer;\n",
              "      display: none;\n",
              "      fill: #1967D2;\n",
              "      height: 32px;\n",
              "      padding: 0 0 0 0;\n",
              "      width: 32px;\n",
              "    }\n",
              "\n",
              "    .colab-df-convert:hover {\n",
              "      background-color: #E2EBFA;\n",
              "      box-shadow: 0px 1px 2px rgba(60, 64, 67, 0.3), 0px 1px 3px 1px rgba(60, 64, 67, 0.15);\n",
              "      fill: #174EA6;\n",
              "    }\n",
              "\n",
              "    .colab-df-buttons div {\n",
              "      margin-bottom: 4px;\n",
              "    }\n",
              "\n",
              "    [theme=dark] .colab-df-convert {\n",
              "      background-color: #3B4455;\n",
              "      fill: #D2E3FC;\n",
              "    }\n",
              "\n",
              "    [theme=dark] .colab-df-convert:hover {\n",
              "      background-color: #434B5C;\n",
              "      box-shadow: 0px 1px 3px 1px rgba(0, 0, 0, 0.15);\n",
              "      filter: drop-shadow(0px 1px 2px rgba(0, 0, 0, 0.3));\n",
              "      fill: #FFFFFF;\n",
              "    }\n",
              "  </style>\n",
              "\n",
              "    <script>\n",
              "      const buttonEl =\n",
              "        document.querySelector('#df-a6ed71a2-8516-4d99-8a10-52086f1d977e button.colab-df-convert');\n",
              "      buttonEl.style.display =\n",
              "        google.colab.kernel.accessAllowed ? 'block' : 'none';\n",
              "\n",
              "      async function convertToInteractive(key) {\n",
              "        const element = document.querySelector('#df-a6ed71a2-8516-4d99-8a10-52086f1d977e');\n",
              "        const dataTable =\n",
              "          await google.colab.kernel.invokeFunction('convertToInteractive',\n",
              "                                                    [key], {});\n",
              "        if (!dataTable) return;\n",
              "\n",
              "        const docLinkHtml = 'Like what you see? Visit the ' +\n",
              "          '<a target=\"_blank\" href=https://colab.research.google.com/notebooks/data_table.ipynb>data table notebook</a>'\n",
              "          + ' to learn more about interactive tables.';\n",
              "        element.innerHTML = '';\n",
              "        dataTable['output_type'] = 'display_data';\n",
              "        await google.colab.output.renderOutput(dataTable, element);\n",
              "        const docLink = document.createElement('div');\n",
              "        docLink.innerHTML = docLinkHtml;\n",
              "        element.appendChild(docLink);\n",
              "      }\n",
              "    </script>\n",
              "  </div>\n",
              "\n",
              "\n",
              "<div id=\"df-20b3d17b-fc44-4cfc-8cc3-dd31e6869c84\">\n",
              "  <button class=\"colab-df-quickchart\" onclick=\"quickchart('df-20b3d17b-fc44-4cfc-8cc3-dd31e6869c84')\"\n",
              "            title=\"Suggest charts\"\n",
              "            style=\"display:none;\">\n",
              "\n",
              "<svg xmlns=\"http://www.w3.org/2000/svg\" height=\"24px\"viewBox=\"0 0 24 24\"\n",
              "     width=\"24px\">\n",
              "    <g>\n",
              "        <path d=\"M19 3H5c-1.1 0-2 .9-2 2v14c0 1.1.9 2 2 2h14c1.1 0 2-.9 2-2V5c0-1.1-.9-2-2-2zM9 17H7v-7h2v7zm4 0h-2V7h2v10zm4 0h-2v-4h2v4z\"/>\n",
              "    </g>\n",
              "</svg>\n",
              "  </button>\n",
              "\n",
              "<style>\n",
              "  .colab-df-quickchart {\n",
              "      --bg-color: #E8F0FE;\n",
              "      --fill-color: #1967D2;\n",
              "      --hover-bg-color: #E2EBFA;\n",
              "      --hover-fill-color: #174EA6;\n",
              "      --disabled-fill-color: #AAA;\n",
              "      --disabled-bg-color: #DDD;\n",
              "  }\n",
              "\n",
              "  [theme=dark] .colab-df-quickchart {\n",
              "      --bg-color: #3B4455;\n",
              "      --fill-color: #D2E3FC;\n",
              "      --hover-bg-color: #434B5C;\n",
              "      --hover-fill-color: #FFFFFF;\n",
              "      --disabled-bg-color: #3B4455;\n",
              "      --disabled-fill-color: #666;\n",
              "  }\n",
              "\n",
              "  .colab-df-quickchart {\n",
              "    background-color: var(--bg-color);\n",
              "    border: none;\n",
              "    border-radius: 50%;\n",
              "    cursor: pointer;\n",
              "    display: none;\n",
              "    fill: var(--fill-color);\n",
              "    height: 32px;\n",
              "    padding: 0;\n",
              "    width: 32px;\n",
              "  }\n",
              "\n",
              "  .colab-df-quickchart:hover {\n",
              "    background-color: var(--hover-bg-color);\n",
              "    box-shadow: 0 1px 2px rgba(60, 64, 67, 0.3), 0 1px 3px 1px rgba(60, 64, 67, 0.15);\n",
              "    fill: var(--button-hover-fill-color);\n",
              "  }\n",
              "\n",
              "  .colab-df-quickchart-complete:disabled,\n",
              "  .colab-df-quickchart-complete:disabled:hover {\n",
              "    background-color: var(--disabled-bg-color);\n",
              "    fill: var(--disabled-fill-color);\n",
              "    box-shadow: none;\n",
              "  }\n",
              "\n",
              "  .colab-df-spinner {\n",
              "    border: 2px solid var(--fill-color);\n",
              "    border-color: transparent;\n",
              "    border-bottom-color: var(--fill-color);\n",
              "    animation:\n",
              "      spin 1s steps(1) infinite;\n",
              "  }\n",
              "\n",
              "  @keyframes spin {\n",
              "    0% {\n",
              "      border-color: transparent;\n",
              "      border-bottom-color: var(--fill-color);\n",
              "      border-left-color: var(--fill-color);\n",
              "    }\n",
              "    20% {\n",
              "      border-color: transparent;\n",
              "      border-left-color: var(--fill-color);\n",
              "      border-top-color: var(--fill-color);\n",
              "    }\n",
              "    30% {\n",
              "      border-color: transparent;\n",
              "      border-left-color: var(--fill-color);\n",
              "      border-top-color: var(--fill-color);\n",
              "      border-right-color: var(--fill-color);\n",
              "    }\n",
              "    40% {\n",
              "      border-color: transparent;\n",
              "      border-right-color: var(--fill-color);\n",
              "      border-top-color: var(--fill-color);\n",
              "    }\n",
              "    60% {\n",
              "      border-color: transparent;\n",
              "      border-right-color: var(--fill-color);\n",
              "    }\n",
              "    80% {\n",
              "      border-color: transparent;\n",
              "      border-right-color: var(--fill-color);\n",
              "      border-bottom-color: var(--fill-color);\n",
              "    }\n",
              "    90% {\n",
              "      border-color: transparent;\n",
              "      border-bottom-color: var(--fill-color);\n",
              "    }\n",
              "  }\n",
              "</style>\n",
              "\n",
              "  <script>\n",
              "    async function quickchart(key) {\n",
              "      const quickchartButtonEl =\n",
              "        document.querySelector('#' + key + ' button');\n",
              "      quickchartButtonEl.disabled = true;  // To prevent multiple clicks.\n",
              "      quickchartButtonEl.classList.add('colab-df-spinner');\n",
              "      try {\n",
              "        const charts = await google.colab.kernel.invokeFunction(\n",
              "            'suggestCharts', [key], {});\n",
              "      } catch (error) {\n",
              "        console.error('Error during call to suggestCharts:', error);\n",
              "      }\n",
              "      quickchartButtonEl.classList.remove('colab-df-spinner');\n",
              "      quickchartButtonEl.classList.add('colab-df-quickchart-complete');\n",
              "    }\n",
              "    (() => {\n",
              "      let quickchartButtonEl =\n",
              "        document.querySelector('#df-20b3d17b-fc44-4cfc-8cc3-dd31e6869c84 button');\n",
              "      quickchartButtonEl.style.display =\n",
              "        google.colab.kernel.accessAllowed ? 'block' : 'none';\n",
              "    })();\n",
              "  </script>\n",
              "</div>\n",
              "\n",
              "    </div>\n",
              "  </div>\n"
            ],
            "application/vnd.google.colaboratory.intrinsic+json": {
              "type": "dataframe",
              "summary": "{\n  \"name\": \"df_required_columns[df_required_columns['fraud_score']\",\n  \"rows\": 2741,\n  \"fields\": [\n    {\n      \"column\": \"order_id_new\",\n      \"properties\": {\n        \"dtype\": \"number\",\n        \"std\": 1204,\n        \"min\": 0,\n        \"max\": 4163,\n        \"num_unique_values\": 2221,\n        \"samples\": [\n          3262,\n          1381,\n          799\n        ],\n        \"semantic_type\": \"\",\n        \"description\": \"\"\n      }\n    },\n    {\n      \"column\": \"metered_price\",\n      \"properties\": {\n        \"dtype\": \"number\",\n        \"std\": 18390.06913456762,\n        \"min\": 2.0,\n        \"max\": 194483.52,\n        \"num_unique_values\": 1740,\n        \"samples\": [\n          21027.4,\n          102942.92,\n          3.05\n        ],\n        \"semantic_type\": \"\",\n        \"description\": \"\"\n      }\n    },\n    {\n      \"column\": \"upfront_price\",\n      \"properties\": {\n        \"dtype\": \"number\",\n        \"std\": 24976.724692103624,\n        \"min\": 2.0,\n        \"max\": 595000.0,\n        \"num_unique_values\": 218,\n        \"samples\": [\n          27500.0,\n          14.9,\n          27000.0\n        ],\n        \"semantic_type\": \"\",\n        \"description\": \"\"\n      }\n    },\n    {\n      \"column\": \"distance\",\n      \"properties\": {\n        \"dtype\": \"number\",\n        \"std\": 10206,\n        \"min\": 0,\n        \"max\": 123934,\n        \"num_unique_values\": 2068,\n        \"samples\": [\n          5446,\n          29835,\n          6447\n        ],\n        \"semantic_type\": \"\",\n        \"description\": \"\"\n      }\n    },\n    {\n      \"column\": \"duration\",\n      \"properties\": {\n        \"dtype\": \"number\",\n        \"std\": 1922,\n        \"min\": 0,\n        \"max\": 22402,\n        \"num_unique_values\": 1687,\n        \"samples\": [\n          246,\n          3750,\n          867\n        ],\n        \"semantic_type\": \"\",\n        \"description\": \"\"\n      }\n    },\n    {\n      \"column\": \"gps_confidence\",\n      \"properties\": {\n        \"dtype\": \"number\",\n        \"std\": 0,\n        \"min\": 0,\n        \"max\": 1,\n        \"num_unique_values\": 2,\n        \"samples\": [\n          0,\n          1\n        ],\n        \"semantic_type\": \"\",\n        \"description\": \"\"\n      }\n    },\n    {\n      \"column\": \"dest_change_number\",\n      \"properties\": {\n        \"dtype\": \"number\",\n        \"std\": 0,\n        \"min\": 1,\n        \"max\": 12,\n        \"num_unique_values\": 6,\n        \"samples\": [\n          1,\n          2\n        ],\n        \"semantic_type\": \"\",\n        \"description\": \"\"\n      }\n    },\n    {\n      \"column\": \"prediction_price_type\",\n      \"properties\": {\n        \"dtype\": \"category\",\n        \"num_unique_values\": 3,\n        \"samples\": [\n          \"upfront\",\n          \"upfront_destination_changed\"\n        ],\n        \"semantic_type\": \"\",\n        \"description\": \"\"\n      }\n    },\n    {\n      \"column\": \"predicted_distance\",\n      \"properties\": {\n        \"dtype\": \"number\",\n        \"std\": 10854.25680072085,\n        \"min\": 0.0,\n        \"max\": 353538.0,\n        \"num_unique_values\": 2075,\n        \"samples\": [\n          2720.0,\n          9144.0\n        ],\n        \"semantic_type\": \"\",\n        \"description\": \"\"\n      }\n    },\n    {\n      \"column\": \"predicted_duration\",\n      \"properties\": {\n        \"dtype\": \"number\",\n        \"std\": 892.6040024872284,\n        \"min\": 0.0,\n        \"max\": 20992.0,\n        \"num_unique_values\": 1425,\n        \"samples\": [\n          2366.0,\n          480.0\n        ],\n        \"semantic_type\": \"\",\n        \"description\": \"\"\n      }\n    },\n    {\n      \"column\": \"fraud_score\",\n      \"properties\": {\n        \"dtype\": \"number\",\n        \"std\": null,\n        \"min\": null,\n        \"max\": null,\n        \"num_unique_values\": 0,\n        \"samples\": [],\n        \"semantic_type\": \"\",\n        \"description\": \"\"\n      }\n    }\n  ]\n}"
            }
          },
          "metadata": {},
          "execution_count": 15
        }
      ]
    },
    {
      "cell_type": "markdown",
      "source": [
        "#####**Code to fill the null values in fraud_score column with integer 0**"
      ],
      "metadata": {
        "id": "NY3N1KXJPvmA"
      }
    },
    {
      "cell_type": "code",
      "source": [
        "df_required_columns['fraud_score'].fillna(0, inplace=True)\n"
      ],
      "metadata": {
        "id": "grKUBcb-90ue",
        "colab": {
          "base_uri": "https://localhost:8080/"
        },
        "outputId": "4fef26bf-0282-4e34-bdb0-981cc765b98a"
      },
      "execution_count": 16,
      "outputs": [
        {
          "output_type": "stream",
          "name": "stderr",
          "text": [
            "<ipython-input-16-6d1b72c11eb6>:3: SettingWithCopyWarning: \n",
            "A value is trying to be set on a copy of a slice from a DataFrame\n",
            "\n",
            "See the caveats in the documentation: https://pandas.pydata.org/pandas-docs/stable/user_guide/indexing.html#returning-a-view-versus-a-copy\n",
            "  df_required_columns['fraud_score'].fillna(0, inplace=True)\n"
          ]
        }
      ]
    },
    {
      "cell_type": "code",
      "source": [
        "df_required_columns.isnull().sum()"
      ],
      "metadata": {
        "colab": {
          "base_uri": "https://localhost:8080/"
        },
        "id": "5rrKOE3--OD8",
        "outputId": "2f625324-e74e-454c-cfd1-5e06edaa6ac9"
      },
      "execution_count": 17,
      "outputs": [
        {
          "output_type": "execute_result",
          "data": {
            "text/plain": [
              "order_id_new                0\n",
              "metered_price               0\n",
              "upfront_price            1514\n",
              "distance                    0\n",
              "duration                    0\n",
              "gps_confidence              0\n",
              "dest_change_number          0\n",
              "prediction_price_type       0\n",
              "predicted_distance          0\n",
              "predicted_duration          0\n",
              "fraud_score                 0\n",
              "dtype: int64"
            ]
          },
          "metadata": {},
          "execution_count": 17
        }
      ]
    },
    {
      "cell_type": "markdown",
      "source": [
        "### ***Column Name : Upfront Price***"
      ],
      "metadata": {
        "id": "x8eUxtM5RcDB"
      }
    },
    {
      "cell_type": "markdown",
      "source": [
        "##### **Dropping the null values for upfront price column**"
      ],
      "metadata": {
        "id": "TkjjNexPQ33X"
      }
    },
    {
      "cell_type": "code",
      "source": [
        "df_required_columns = df_required_columns.dropna(subset=['upfront_price'])"
      ],
      "metadata": {
        "id": "BONXAlMWRB28"
      },
      "execution_count": null,
      "outputs": []
    },
    {
      "cell_type": "code",
      "source": [
        "df_required_columns.isnull().sum()"
      ],
      "metadata": {
        "id": "tn1qZKLQRKqY"
      },
      "execution_count": null,
      "outputs": []
    },
    {
      "cell_type": "markdown",
      "source": [
        "#####**Now, We will find the correlation of upfront_price column with other columns**\n",
        "\n",
        "---\n",
        "\n"
      ],
      "metadata": {
        "id": "mcqLVu4--ZrF"
      }
    },
    {
      "cell_type": "code",
      "source": [
        "df_required_columns.corr()['upfront_price'].sort_values(ascending=False)\n"
      ],
      "metadata": {
        "colab": {
          "base_uri": "https://localhost:8080/"
        },
        "id": "T0zFw8Mj_CK9",
        "outputId": "7f20533d-4329-4c0b-81b9-dcf040b373ff"
      },
      "execution_count": 18,
      "outputs": [
        {
          "output_type": "stream",
          "name": "stderr",
          "text": [
            "<ipython-input-18-ec542d0fef97>:3: FutureWarning: The default value of numeric_only in DataFrame.corr is deprecated. In a future version, it will default to False. Select only valid columns or specify the value of numeric_only to silence this warning.\n",
            "  df_required_columns.corr()['upfront_price'].sort_values(ascending=False)\n"
          ]
        },
        {
          "output_type": "execute_result",
          "data": {
            "text/plain": [
              "upfront_price         1.000000\n",
              "predicted_duration    0.746837\n",
              "predicted_distance    0.715542\n",
              "metered_price         0.420772\n",
              "duration              0.238937\n",
              "distance              0.167040\n",
              "fraud_score           0.089366\n",
              "dest_change_number    0.051178\n",
              "order_id_new         -0.192324\n",
              "gps_confidence       -0.206987\n",
              "Name: upfront_price, dtype: float64"
            ]
          },
          "metadata": {},
          "execution_count": 18
        }
      ]
    },
    {
      "cell_type": "code",
      "source": [
        "df_required_columns.head()"
      ],
      "metadata": {
        "colab": {
          "base_uri": "https://localhost:8080/",
          "height": 224
        },
        "id": "Gv01Dwz-Fy4m",
        "outputId": "d0d5f90f-2d39-4327-b32e-c8dfd12ddca7"
      },
      "execution_count": 21,
      "outputs": [
        {
          "output_type": "execute_result",
          "data": {
            "text/plain": [
              "   order_id_new  metered_price  upfront_price  distance  duration  \\\n",
              "0            22           4.04           10.0      2839       700   \n",
              "1           618           6.09            3.6      5698       493   \n",
              "2           657           4.32            3.5      4426       695   \n",
              "4          1176       20032.50        19500.0     10273      5067   \n",
              "5          1209           6.11            6.3      4924       513   \n",
              "\n",
              "   gps_confidence  dest_change_number prediction_price_type  \\\n",
              "0               1                   1               upfront   \n",
              "1               1                   1               upfront   \n",
              "2               1                   1               upfront   \n",
              "4               1                   1               upfront   \n",
              "5               1                   1               upfront   \n",
              "\n",
              "   predicted_distance  predicted_duration  fraud_score  \n",
              "0             13384.0              1091.0      -1383.0  \n",
              "1              2286.0               360.0          0.0  \n",
              "2              4101.0               433.0       -166.0  \n",
              "4             14236.0              2778.0          0.0  \n",
              "5              4882.0               562.0          0.0  "
            ],
            "text/html": [
              "\n",
              "  <div id=\"df-f2d65d4f-8d55-4a5a-ab00-a3b9965d35f9\" class=\"colab-df-container\">\n",
              "    <div>\n",
              "<style scoped>\n",
              "    .dataframe tbody tr th:only-of-type {\n",
              "        vertical-align: middle;\n",
              "    }\n",
              "\n",
              "    .dataframe tbody tr th {\n",
              "        vertical-align: top;\n",
              "    }\n",
              "\n",
              "    .dataframe thead th {\n",
              "        text-align: right;\n",
              "    }\n",
              "</style>\n",
              "<table border=\"1\" class=\"dataframe\">\n",
              "  <thead>\n",
              "    <tr style=\"text-align: right;\">\n",
              "      <th></th>\n",
              "      <th>order_id_new</th>\n",
              "      <th>metered_price</th>\n",
              "      <th>upfront_price</th>\n",
              "      <th>distance</th>\n",
              "      <th>duration</th>\n",
              "      <th>gps_confidence</th>\n",
              "      <th>dest_change_number</th>\n",
              "      <th>prediction_price_type</th>\n",
              "      <th>predicted_distance</th>\n",
              "      <th>predicted_duration</th>\n",
              "      <th>fraud_score</th>\n",
              "    </tr>\n",
              "  </thead>\n",
              "  <tbody>\n",
              "    <tr>\n",
              "      <th>0</th>\n",
              "      <td>22</td>\n",
              "      <td>4.04</td>\n",
              "      <td>10.0</td>\n",
              "      <td>2839</td>\n",
              "      <td>700</td>\n",
              "      <td>1</td>\n",
              "      <td>1</td>\n",
              "      <td>upfront</td>\n",
              "      <td>13384.0</td>\n",
              "      <td>1091.0</td>\n",
              "      <td>-1383.0</td>\n",
              "    </tr>\n",
              "    <tr>\n",
              "      <th>1</th>\n",
              "      <td>618</td>\n",
              "      <td>6.09</td>\n",
              "      <td>3.6</td>\n",
              "      <td>5698</td>\n",
              "      <td>493</td>\n",
              "      <td>1</td>\n",
              "      <td>1</td>\n",
              "      <td>upfront</td>\n",
              "      <td>2286.0</td>\n",
              "      <td>360.0</td>\n",
              "      <td>0.0</td>\n",
              "    </tr>\n",
              "    <tr>\n",
              "      <th>2</th>\n",
              "      <td>657</td>\n",
              "      <td>4.32</td>\n",
              "      <td>3.5</td>\n",
              "      <td>4426</td>\n",
              "      <td>695</td>\n",
              "      <td>1</td>\n",
              "      <td>1</td>\n",
              "      <td>upfront</td>\n",
              "      <td>4101.0</td>\n",
              "      <td>433.0</td>\n",
              "      <td>-166.0</td>\n",
              "    </tr>\n",
              "    <tr>\n",
              "      <th>4</th>\n",
              "      <td>1176</td>\n",
              "      <td>20032.50</td>\n",
              "      <td>19500.0</td>\n",
              "      <td>10273</td>\n",
              "      <td>5067</td>\n",
              "      <td>1</td>\n",
              "      <td>1</td>\n",
              "      <td>upfront</td>\n",
              "      <td>14236.0</td>\n",
              "      <td>2778.0</td>\n",
              "      <td>0.0</td>\n",
              "    </tr>\n",
              "    <tr>\n",
              "      <th>5</th>\n",
              "      <td>1209</td>\n",
              "      <td>6.11</td>\n",
              "      <td>6.3</td>\n",
              "      <td>4924</td>\n",
              "      <td>513</td>\n",
              "      <td>1</td>\n",
              "      <td>1</td>\n",
              "      <td>upfront</td>\n",
              "      <td>4882.0</td>\n",
              "      <td>562.0</td>\n",
              "      <td>0.0</td>\n",
              "    </tr>\n",
              "  </tbody>\n",
              "</table>\n",
              "</div>\n",
              "    <div class=\"colab-df-buttons\">\n",
              "\n",
              "  <div class=\"colab-df-container\">\n",
              "    <button class=\"colab-df-convert\" onclick=\"convertToInteractive('df-f2d65d4f-8d55-4a5a-ab00-a3b9965d35f9')\"\n",
              "            title=\"Convert this dataframe to an interactive table.\"\n",
              "            style=\"display:none;\">\n",
              "\n",
              "  <svg xmlns=\"http://www.w3.org/2000/svg\" height=\"24px\" viewBox=\"0 -960 960 960\">\n",
              "    <path d=\"M120-120v-720h720v720H120Zm60-500h600v-160H180v160Zm220 220h160v-160H400v160Zm0 220h160v-160H400v160ZM180-400h160v-160H180v160Zm440 0h160v-160H620v160ZM180-180h160v-160H180v160Zm440 0h160v-160H620v160Z\"/>\n",
              "  </svg>\n",
              "    </button>\n",
              "\n",
              "  <style>\n",
              "    .colab-df-container {\n",
              "      display:flex;\n",
              "      gap: 12px;\n",
              "    }\n",
              "\n",
              "    .colab-df-convert {\n",
              "      background-color: #E8F0FE;\n",
              "      border: none;\n",
              "      border-radius: 50%;\n",
              "      cursor: pointer;\n",
              "      display: none;\n",
              "      fill: #1967D2;\n",
              "      height: 32px;\n",
              "      padding: 0 0 0 0;\n",
              "      width: 32px;\n",
              "    }\n",
              "\n",
              "    .colab-df-convert:hover {\n",
              "      background-color: #E2EBFA;\n",
              "      box-shadow: 0px 1px 2px rgba(60, 64, 67, 0.3), 0px 1px 3px 1px rgba(60, 64, 67, 0.15);\n",
              "      fill: #174EA6;\n",
              "    }\n",
              "\n",
              "    .colab-df-buttons div {\n",
              "      margin-bottom: 4px;\n",
              "    }\n",
              "\n",
              "    [theme=dark] .colab-df-convert {\n",
              "      background-color: #3B4455;\n",
              "      fill: #D2E3FC;\n",
              "    }\n",
              "\n",
              "    [theme=dark] .colab-df-convert:hover {\n",
              "      background-color: #434B5C;\n",
              "      box-shadow: 0px 1px 3px 1px rgba(0, 0, 0, 0.15);\n",
              "      filter: drop-shadow(0px 1px 2px rgba(0, 0, 0, 0.3));\n",
              "      fill: #FFFFFF;\n",
              "    }\n",
              "  </style>\n",
              "\n",
              "    <script>\n",
              "      const buttonEl =\n",
              "        document.querySelector('#df-f2d65d4f-8d55-4a5a-ab00-a3b9965d35f9 button.colab-df-convert');\n",
              "      buttonEl.style.display =\n",
              "        google.colab.kernel.accessAllowed ? 'block' : 'none';\n",
              "\n",
              "      async function convertToInteractive(key) {\n",
              "        const element = document.querySelector('#df-f2d65d4f-8d55-4a5a-ab00-a3b9965d35f9');\n",
              "        const dataTable =\n",
              "          await google.colab.kernel.invokeFunction('convertToInteractive',\n",
              "                                                    [key], {});\n",
              "        if (!dataTable) return;\n",
              "\n",
              "        const docLinkHtml = 'Like what you see? Visit the ' +\n",
              "          '<a target=\"_blank\" href=https://colab.research.google.com/notebooks/data_table.ipynb>data table notebook</a>'\n",
              "          + ' to learn more about interactive tables.';\n",
              "        element.innerHTML = '';\n",
              "        dataTable['output_type'] = 'display_data';\n",
              "        await google.colab.output.renderOutput(dataTable, element);\n",
              "        const docLink = document.createElement('div');\n",
              "        docLink.innerHTML = docLinkHtml;\n",
              "        element.appendChild(docLink);\n",
              "      }\n",
              "    </script>\n",
              "  </div>\n",
              "\n",
              "\n",
              "<div id=\"df-85998a67-185e-4c22-a9f5-bef7e6da1db2\">\n",
              "  <button class=\"colab-df-quickchart\" onclick=\"quickchart('df-85998a67-185e-4c22-a9f5-bef7e6da1db2')\"\n",
              "            title=\"Suggest charts\"\n",
              "            style=\"display:none;\">\n",
              "\n",
              "<svg xmlns=\"http://www.w3.org/2000/svg\" height=\"24px\"viewBox=\"0 0 24 24\"\n",
              "     width=\"24px\">\n",
              "    <g>\n",
              "        <path d=\"M19 3H5c-1.1 0-2 .9-2 2v14c0 1.1.9 2 2 2h14c1.1 0 2-.9 2-2V5c0-1.1-.9-2-2-2zM9 17H7v-7h2v7zm4 0h-2V7h2v10zm4 0h-2v-4h2v4z\"/>\n",
              "    </g>\n",
              "</svg>\n",
              "  </button>\n",
              "\n",
              "<style>\n",
              "  .colab-df-quickchart {\n",
              "      --bg-color: #E8F0FE;\n",
              "      --fill-color: #1967D2;\n",
              "      --hover-bg-color: #E2EBFA;\n",
              "      --hover-fill-color: #174EA6;\n",
              "      --disabled-fill-color: #AAA;\n",
              "      --disabled-bg-color: #DDD;\n",
              "  }\n",
              "\n",
              "  [theme=dark] .colab-df-quickchart {\n",
              "      --bg-color: #3B4455;\n",
              "      --fill-color: #D2E3FC;\n",
              "      --hover-bg-color: #434B5C;\n",
              "      --hover-fill-color: #FFFFFF;\n",
              "      --disabled-bg-color: #3B4455;\n",
              "      --disabled-fill-color: #666;\n",
              "  }\n",
              "\n",
              "  .colab-df-quickchart {\n",
              "    background-color: var(--bg-color);\n",
              "    border: none;\n",
              "    border-radius: 50%;\n",
              "    cursor: pointer;\n",
              "    display: none;\n",
              "    fill: var(--fill-color);\n",
              "    height: 32px;\n",
              "    padding: 0;\n",
              "    width: 32px;\n",
              "  }\n",
              "\n",
              "  .colab-df-quickchart:hover {\n",
              "    background-color: var(--hover-bg-color);\n",
              "    box-shadow: 0 1px 2px rgba(60, 64, 67, 0.3), 0 1px 3px 1px rgba(60, 64, 67, 0.15);\n",
              "    fill: var(--button-hover-fill-color);\n",
              "  }\n",
              "\n",
              "  .colab-df-quickchart-complete:disabled,\n",
              "  .colab-df-quickchart-complete:disabled:hover {\n",
              "    background-color: var(--disabled-bg-color);\n",
              "    fill: var(--disabled-fill-color);\n",
              "    box-shadow: none;\n",
              "  }\n",
              "\n",
              "  .colab-df-spinner {\n",
              "    border: 2px solid var(--fill-color);\n",
              "    border-color: transparent;\n",
              "    border-bottom-color: var(--fill-color);\n",
              "    animation:\n",
              "      spin 1s steps(1) infinite;\n",
              "  }\n",
              "\n",
              "  @keyframes spin {\n",
              "    0% {\n",
              "      border-color: transparent;\n",
              "      border-bottom-color: var(--fill-color);\n",
              "      border-left-color: var(--fill-color);\n",
              "    }\n",
              "    20% {\n",
              "      border-color: transparent;\n",
              "      border-left-color: var(--fill-color);\n",
              "      border-top-color: var(--fill-color);\n",
              "    }\n",
              "    30% {\n",
              "      border-color: transparent;\n",
              "      border-left-color: var(--fill-color);\n",
              "      border-top-color: var(--fill-color);\n",
              "      border-right-color: var(--fill-color);\n",
              "    }\n",
              "    40% {\n",
              "      border-color: transparent;\n",
              "      border-right-color: var(--fill-color);\n",
              "      border-top-color: var(--fill-color);\n",
              "    }\n",
              "    60% {\n",
              "      border-color: transparent;\n",
              "      border-right-color: var(--fill-color);\n",
              "    }\n",
              "    80% {\n",
              "      border-color: transparent;\n",
              "      border-right-color: var(--fill-color);\n",
              "      border-bottom-color: var(--fill-color);\n",
              "    }\n",
              "    90% {\n",
              "      border-color: transparent;\n",
              "      border-bottom-color: var(--fill-color);\n",
              "    }\n",
              "  }\n",
              "</style>\n",
              "\n",
              "  <script>\n",
              "    async function quickchart(key) {\n",
              "      const quickchartButtonEl =\n",
              "        document.querySelector('#' + key + ' button');\n",
              "      quickchartButtonEl.disabled = true;  // To prevent multiple clicks.\n",
              "      quickchartButtonEl.classList.add('colab-df-spinner');\n",
              "      try {\n",
              "        const charts = await google.colab.kernel.invokeFunction(\n",
              "            'suggestCharts', [key], {});\n",
              "      } catch (error) {\n",
              "        console.error('Error during call to suggestCharts:', error);\n",
              "      }\n",
              "      quickchartButtonEl.classList.remove('colab-df-spinner');\n",
              "      quickchartButtonEl.classList.add('colab-df-quickchart-complete');\n",
              "    }\n",
              "    (() => {\n",
              "      let quickchartButtonEl =\n",
              "        document.querySelector('#df-85998a67-185e-4c22-a9f5-bef7e6da1db2 button');\n",
              "      quickchartButtonEl.style.display =\n",
              "        google.colab.kernel.accessAllowed ? 'block' : 'none';\n",
              "    })();\n",
              "  </script>\n",
              "</div>\n",
              "\n",
              "    </div>\n",
              "  </div>\n"
            ],
            "application/vnd.google.colaboratory.intrinsic+json": {
              "type": "dataframe",
              "variable_name": "df_required_columns",
              "summary": "{\n  \"name\": \"df_required_columns\",\n  \"rows\": 3409,\n  \"fields\": [\n    {\n      \"column\": \"order_id_new\",\n      \"properties\": {\n        \"dtype\": \"number\",\n        \"std\": 1213,\n        \"min\": 0,\n        \"max\": 4165,\n        \"num_unique_values\": 2946,\n        \"samples\": [\n          609,\n          999,\n          975\n        ],\n        \"semantic_type\": \"\",\n        \"description\": \"\"\n      }\n    },\n    {\n      \"column\": \"metered_price\",\n      \"properties\": {\n        \"dtype\": \"number\",\n        \"std\": 14306.060449033102,\n        \"min\": 2.0,\n        \"max\": 194483.52,\n        \"num_unique_values\": 1507,\n        \"samples\": [\n          11645.7,\n          15956.04,\n          113848.46\n        ],\n        \"semantic_type\": \"\",\n        \"description\": \"\"\n      }\n    },\n    {\n      \"column\": \"upfront_price\",\n      \"properties\": {\n        \"dtype\": \"number\",\n        \"std\": 17015.711911669106,\n        \"min\": 2.0,\n        \"max\": 595000.0,\n        \"num_unique_values\": 289,\n        \"samples\": [\n          2.8,\n          7.3,\n          12.8\n        ],\n        \"semantic_type\": \"\",\n        \"description\": \"\"\n      }\n    },\n    {\n      \"column\": \"distance\",\n      \"properties\": {\n        \"dtype\": \"number\",\n        \"std\": 9882,\n        \"min\": 0,\n        \"max\": 171119,\n        \"num_unique_values\": 2646,\n        \"samples\": [\n          7447,\n          8807,\n          13623\n        ],\n        \"semantic_type\": \"\",\n        \"description\": \"\"\n      }\n    },\n    {\n      \"column\": \"duration\",\n      \"properties\": {\n        \"dtype\": \"number\",\n        \"std\": 1311,\n        \"min\": 0,\n        \"max\": 18734,\n        \"num_unique_values\": 1727,\n        \"samples\": [\n          435,\n          457,\n          258\n        ],\n        \"semantic_type\": \"\",\n        \"description\": \"\"\n      }\n    },\n    {\n      \"column\": \"gps_confidence\",\n      \"properties\": {\n        \"dtype\": \"number\",\n        \"std\": 0,\n        \"min\": 0,\n        \"max\": 1,\n        \"num_unique_values\": 2,\n        \"samples\": [\n          0,\n          1\n        ],\n        \"semantic_type\": \"\",\n        \"description\": \"\"\n      }\n    },\n    {\n      \"column\": \"dest_change_number\",\n      \"properties\": {\n        \"dtype\": \"number\",\n        \"std\": 0,\n        \"min\": 1,\n        \"max\": 7,\n        \"num_unique_values\": 6,\n        \"samples\": [\n          1,\n          3\n        ],\n        \"semantic_type\": \"\",\n        \"description\": \"\"\n      }\n    },\n    {\n      \"column\": \"prediction_price_type\",\n      \"properties\": {\n        \"dtype\": \"category\",\n        \"num_unique_values\": 1,\n        \"samples\": [\n          \"upfront\"\n        ],\n        \"semantic_type\": \"\",\n        \"description\": \"\"\n      }\n    },\n    {\n      \"column\": \"predicted_distance\",\n      \"properties\": {\n        \"dtype\": \"number\",\n        \"std\": 10972.320328524655,\n        \"min\": 21.0,\n        \"max\": 353538.0,\n        \"num_unique_values\": 2651,\n        \"samples\": [\n          6945.0\n        ],\n        \"semantic_type\": \"\",\n        \"description\": \"\"\n      }\n    },\n    {\n      \"column\": \"predicted_duration\",\n      \"properties\": {\n        \"dtype\": \"number\",\n        \"std\": 802.1154326554007,\n        \"min\": 2.0,\n        \"max\": 20992.0,\n        \"num_unique_values\": 1429,\n        \"samples\": [\n          967.0\n        ],\n        \"semantic_type\": \"\",\n        \"description\": \"\"\n      }\n    },\n    {\n      \"column\": \"fraud_score\",\n      \"properties\": {\n        \"dtype\": \"number\",\n        \"std\": 937.5137019107956,\n        \"min\": -14225.0,\n        \"max\": 49.0,\n        \"num_unique_values\": 826,\n        \"samples\": [\n          -374.0\n        ],\n        \"semantic_type\": \"\",\n        \"description\": \"\"\n      }\n    }\n  ]\n}"
            }
          },
          "metadata": {},
          "execution_count": 21
        }
      ]
    },
    {
      "cell_type": "markdown",
      "source": [
        "# **Analysing the dataframe**"
      ],
      "metadata": {
        "id": "u0YKKkoPRjL0"
      }
    },
    {
      "cell_type": "markdown",
      "source": [
        "### ***1. Analyzing Outliers***"
      ],
      "metadata": {
        "id": "1wBBNs-5U6MI"
      }
    },
    {
      "cell_type": "code",
      "source": [
        "df.boxplot(column=['distance', 'duration', 'metered_price', 'upfront_price'])\n",
        "# Handle outliers as needed (e.g., capping values)"
      ],
      "metadata": {
        "colab": {
          "base_uri": "https://localhost:8080/",
          "height": 447
        },
        "id": "Zz1Lk8q1GEwb",
        "outputId": "cc6dc38f-a9f6-4ab7-ed4f-46fa61bbbcb6"
      },
      "execution_count": 22,
      "outputs": [
        {
          "output_type": "execute_result",
          "data": {
            "text/plain": [
              "<Axes: >"
            ]
          },
          "metadata": {},
          "execution_count": 22
        },
        {
          "output_type": "display_data",
          "data": {
            "text/plain": [
              "<Figure size 640x480 with 1 Axes>"
            ],
            "image/png": "[encoded data removed]"
          },
          "metadata": {}
        }
      ]
    },
    {
      "cell_type": "markdown",
      "source": [
        "### ***2. Difference between Metered Price and Upfront Price***"
      ],
      "metadata": {
        "id": "JNWV6wlZSURI"
      }
    },
    {
      "cell_type": "code",
      "source": [
        "df['price_difference'] = abs(df['metered_price'] - df['upfront_price'])\n",
        "df['price_difference']"
      ],
      "metadata": {
        "colab": {
          "base_uri": "https://localhost:8080/"
        },
        "id": "n22Zk_lvNkP6",
        "outputId": "6fae65fa-eb4c-42e3-df7c-f27c3b693a95"
      },
      "execution_count": 31,
      "outputs": [
        {
          "output_type": "execute_result",
          "data": {
            "text/plain": [
              "0           5.96\n",
              "1           2.49\n",
              "2           0.82\n",
              "3            NaN\n",
              "4         532.50\n",
              "          ...   \n",
              "4938        2.81\n",
              "4939         NaN\n",
              "4940        0.10\n",
              "4941        5.04\n",
              "4942    13244.10\n",
              "Name: price_difference, Length: 4943, dtype: float64"
            ]
          },
          "metadata": {},
          "execution_count": 31
        }
      ]
    },
    {
      "cell_type": "code",
      "source": [
        "# Differences between prices\n",
        "df['price_difference'] = abs(df['metered_price'] - df['upfront_price'])\n",
        "df['price_difference'].plot(title='Difference between Metered Price and Upfront Price', color='green')\n",
        "plt.xlabel('Index Number')\n",
        "plt.ylabel('Price difference')\n",
        "plt.show()"
      ],
      "metadata": {
        "colab": {
          "base_uri": "https://localhost:8080/",
          "height": 472
        },
        "id": "CFN39reXHCqm",
        "outputId": "509fdeff-e6bd-466e-b2ff-f727a370f4e4"
      },
      "execution_count": 37,
      "outputs": [
        {
          "output_type": "display_data",
          "data": {
            "text/plain": [
              "<Figure size 640x480 with 1 Axes>"
            ],
            "image/png": "[encoded data removed]"
          },
          "metadata": {}
        }
      ]
    },
    {
      "cell_type": "markdown",
      "source": [
        "##### Adding price difference column to our dataframe"
      ],
      "metadata": {
        "id": "Mnoy2I64WhcX"
      }
    },
    {
      "cell_type": "code",
      "source": [
        "df_required_columns['price_difference'] = df_required_columns['metered_price'] - df_required_columns['upfront_price']\n"
      ],
      "metadata": {
        "id": "n_iY69TkWPWz"
      },
      "execution_count": 48,
      "outputs": []
    },
    {
      "cell_type": "markdown",
      "source": [
        "### ***3. Surprise Factor***"
      ],
      "metadata": {
        "id": "nbv8YNWkVH8C"
      }
    },
    {
      "cell_type": "code",
      "source": [
        "df_required_columns['Surprise_factor'] = np.where(\n",
        "    (df_required_columns['metered_price'] >= 1.2 * df_required_columns['upfront_price']) |\n",
        "    (df_required_columns['metered_price'] <= 0.8 * df_required_columns['upfront_price']),\n",
        "    True, False)"
      ],
      "metadata": {
        "id": "GpAlwhMuSrCe"
      },
      "execution_count": 38,
      "outputs": []
    },
    {
      "cell_type": "code",
      "source": [
        "df_required_columns.head()"
      ],
      "metadata": {
        "colab": {
          "base_uri": "https://localhost:8080/",
          "height": 224
        },
        "id": "StkL9IwuJkxV",
        "outputId": "4c077472-fca3-4126-9191-a61a9fed7071"
      },
      "execution_count": 49,
      "outputs": [
        {
          "output_type": "execute_result",
          "data": {
            "text/plain": [
              "   order_id_new  metered_price  upfront_price  distance  duration  \\\n",
              "0            22           4.04           10.0      2839       700   \n",
              "1           618           6.09            3.6      5698       493   \n",
              "2           657           4.32            3.5      4426       695   \n",
              "4          1176       20032.50        19500.0     10273      5067   \n",
              "5          1209           6.11            6.3      4924       513   \n",
              "\n",
              "   gps_confidence  dest_change_number prediction_price_type  \\\n",
              "0               1                   1               upfront   \n",
              "1               1                   1               upfront   \n",
              "2               1                   1               upfront   \n",
              "4               1                   1               upfront   \n",
              "5               1                   1               upfront   \n",
              "\n",
              "   predicted_distance  predicted_duration  fraud_score  Surprise_factor  \\\n",
              "0             13384.0              1091.0      -1383.0             True   \n",
              "1              2286.0               360.0          0.0             True   \n",
              "2              4101.0               433.0       -166.0             True   \n",
              "4             14236.0              2778.0          0.0            False   \n",
              "5              4882.0               562.0          0.0            False   \n",
              "\n",
              "   price_difference  \n",
              "0             -5.96  \n",
              "1              2.49  \n",
              "2              0.82  \n",
              "4            532.50  \n",
              "5             -0.19  "
            ],
            "text/html": [
              "\n",
              "  <div id=\"df-71adaa04-81ef-409e-962f-bd5eee7ad5b8\" class=\"colab-df-container\">\n",
              "    <div>\n",
              "<style scoped>\n",
              "    .dataframe tbody tr th:only-of-type {\n",
              "        vertical-align: middle;\n",
              "    }\n",
              "\n",
              "    .dataframe tbody tr th {\n",
              "        vertical-align: top;\n",
              "    }\n",
              "\n",
              "    .dataframe thead th {\n",
              "        text-align: right;\n",
              "    }\n",
              "</style>\n",
              "<table border=\"1\" class=\"dataframe\">\n",
              "  <thead>\n",
              "    <tr style=\"text-align: right;\">\n",
              "      <th></th>\n",
              "      <th>order_id_new</th>\n",
              "      <th>metered_price</th>\n",
              "      <th>upfront_price</th>\n",
              "      <th>distance</th>\n",
              "      <th>duration</th>\n",
              "      <th>gps_confidence</th>\n",
              "      <th>dest_change_number</th>\n",
              "      <th>prediction_price_type</th>\n",
              "      <th>predicted_distance</th>\n",
              "      <th>predicted_duration</th>\n",
              "      <th>fraud_score</th>\n",
              "      <th>Surprise_factor</th>\n",
              "      <th>price_difference</th>\n",
              "    </tr>\n",
              "  </thead>\n",
              "  <tbody>\n",
              "    <tr>\n",
              "      <th>0</th>\n",
              "      <td>22</td>\n",
              "      <td>4.04</td>\n",
              "      <td>10.0</td>\n",
              "      <td>2839</td>\n",
              "      <td>700</td>\n",
              "      <td>1</td>\n",
              "      <td>1</td>\n",
              "      <td>upfront</td>\n",
              "      <td>13384.0</td>\n",
              "      <td>1091.0</td>\n",
              "      <td>-1383.0</td>\n",
              "      <td>True</td>\n",
              "      <td>-5.96</td>\n",
              "    </tr>\n",
              "    <tr>\n",
              "      <th>1</th>\n",
              "      <td>618</td>\n",
              "      <td>6.09</td>\n",
              "      <td>3.6</td>\n",
              "      <td>5698</td>\n",
              "      <td>493</td>\n",
              "      <td>1</td>\n",
              "      <td>1</td>\n",
              "      <td>upfront</td>\n",
              "      <td>2286.0</td>\n",
              "      <td>360.0</td>\n",
              "      <td>0.0</td>\n",
              "      <td>True</td>\n",
              "      <td>2.49</td>\n",
              "    </tr>\n",
              "    <tr>\n",
              "      <th>2</th>\n",
              "      <td>657</td>\n",
              "      <td>4.32</td>\n",
              "      <td>3.5</td>\n",
              "      <td>4426</td>\n",
              "      <td>695</td>\n",
              "      <td>1</td>\n",
              "      <td>1</td>\n",
              "      <td>upfront</td>\n",
              "      <td>4101.0</td>\n",
              "      <td>433.0</td>\n",
              "      <td>-166.0</td>\n",
              "      <td>True</td>\n",
              "      <td>0.82</td>\n",
              "    </tr>\n",
              "    <tr>\n",
              "      <th>4</th>\n",
              "      <td>1176</td>\n",
              "      <td>20032.50</td>\n",
              "      <td>19500.0</td>\n",
              "      <td>10273</td>\n",
              "      <td>5067</td>\n",
              "      <td>1</td>\n",
              "      <td>1</td>\n",
              "      <td>upfront</td>\n",
              "      <td>14236.0</td>\n",
              "      <td>2778.0</td>\n",
              "      <td>0.0</td>\n",
              "      <td>False</td>\n",
              "      <td>532.50</td>\n",
              "    </tr>\n",
              "    <tr>\n",
              "      <th>5</th>\n",
              "      <td>1209</td>\n",
              "      <td>6.11</td>\n",
              "      <td>6.3</td>\n",
              "      <td>4924</td>\n",
              "      <td>513</td>\n",
              "      <td>1</td>\n",
              "      <td>1</td>\n",
              "      <td>upfront</td>\n",
              "      <td>4882.0</td>\n",
              "      <td>562.0</td>\n",
              "      <td>0.0</td>\n",
              "      <td>False</td>\n",
              "      <td>-0.19</td>\n",
              "    </tr>\n",
              "  </tbody>\n",
              "</table>\n",
              "</div>\n",
              "    <div class=\"colab-df-buttons\">\n",
              "\n",
              "  <div class=\"colab-df-container\">\n",
              "    <button class=\"colab-df-convert\" onclick=\"convertToInteractive('df-71adaa04-81ef-409e-962f-bd5eee7ad5b8')\"\n",
              "            title=\"Convert this dataframe to an interactive table.\"\n",
              "            style=\"display:none;\">\n",
              "\n",
              "  <svg xmlns=\"http://www.w3.org/2000/svg\" height=\"24px\" viewBox=\"0 -960 960 960\">\n",
              "    <path d=\"M120-120v-720h720v720H120Zm60-500h600v-160H180v160Zm220 220h160v-160H400v160Zm0 220h160v-160H400v160ZM180-400h160v-160H180v160Zm440 0h160v-160H620v160ZM180-180h160v-160H180v160Zm440 0h160v-160H620v160Z\"/>\n",
              "  </svg>\n",
              "    </button>\n",
              "\n",
              "  <style>\n",
              "    .colab-df-container {\n",
              "      display:flex;\n",
              "      gap: 12px;\n",
              "    }\n",
              "\n",
              "    .colab-df-convert {\n",
              "      background-color: #E8F0FE;\n",
              "      border: none;\n",
              "      border-radius: 50%;\n",
              "      cursor: pointer;\n",
              "      display: none;\n",
              "      fill: #1967D2;\n",
              "      height: 32px;\n",
              "      padding: 0 0 0 0;\n",
              "      width: 32px;\n",
              "    }\n",
              "\n",
              "    .colab-df-convert:hover {\n",
              "      background-color: #E2EBFA;\n",
              "      box-shadow: 0px 1px 2px rgba(60, 64, 67, 0.3), 0px 1px 3px 1px rgba(60, 64, 67, 0.15);\n",
              "      fill: #174EA6;\n",
              "    }\n",
              "\n",
              "    .colab-df-buttons div {\n",
              "      margin-bottom: 4px;\n",
              "    }\n",
              "\n",
              "    [theme=dark] .colab-df-convert {\n",
              "      background-color: #3B4455;\n",
              "      fill: #D2E3FC;\n",
              "    }\n",
              "\n",
              "    [theme=dark] .colab-df-convert:hover {\n",
              "      background-color: #434B5C;\n",
              "      box-shadow: 0px 1px 3px 1px rgba(0, 0, 0, 0.15);\n",
              "      filter: drop-shadow(0px 1px 2px rgba(0, 0, 0, 0.3));\n",
              "      fill: #FFFFFF;\n",
              "    }\n",
              "  </style>\n",
              "\n",
              "    <script>\n",
              "      const buttonEl =\n",
              "        document.querySelector('#df-71adaa04-81ef-409e-962f-bd5eee7ad5b8 button.colab-df-convert');\n",
              "      buttonEl.style.display =\n",
              "        google.colab.kernel.accessAllowed ? 'block' : 'none';\n",
              "\n",
              "      async function convertToInteractive(key) {\n",
              "        const element = document.querySelector('#df-71adaa04-81ef-409e-962f-bd5eee7ad5b8');\n",
              "        const dataTable =\n",
              "          await google.colab.kernel.invokeFunction('convertToInteractive',\n",
              "                                                    [key], {});\n",
              "        if (!dataTable) return;\n",
              "\n",
              "        const docLinkHtml = 'Like what you see? Visit the ' +\n",
              "          '<a target=\"_blank\" href=https://colab.research.google.com/notebooks/data_table.ipynb>data table notebook</a>'\n",
              "          + ' to learn more about interactive tables.';\n",
              "        element.innerHTML = '';\n",
              "        dataTable['output_type'] = 'display_data';\n",
              "        await google.colab.output.renderOutput(dataTable, element);\n",
              "        const docLink = document.createElement('div');\n",
              "        docLink.innerHTML = docLinkHtml;\n",
              "        element.appendChild(docLink);\n",
              "      }\n",
              "    </script>\n",
              "  </div>\n",
              "\n",
              "\n",
              "<div id=\"df-3bbf4e7d-66ff-45c9-8662-ab78da07dafe\">\n",
              "  <button class=\"colab-df-quickchart\" onclick=\"quickchart('df-3bbf4e7d-66ff-45c9-8662-ab78da07dafe')\"\n",
              "            title=\"Suggest charts\"\n",
              "            style=\"display:none;\">\n",
              "\n",
              "<svg xmlns=\"http://www.w3.org/2000/svg\" height=\"24px\"viewBox=\"0 0 24 24\"\n",
              "     width=\"24px\">\n",
              "    <g>\n",
              "        <path d=\"M19 3H5c-1.1 0-2 .9-2 2v14c0 1.1.9 2 2 2h14c1.1 0 2-.9 2-2V5c0-1.1-.9-2-2-2zM9 17H7v-7h2v7zm4 0h-2V7h2v10zm4 0h-2v-4h2v4z\"/>\n",
              "    </g>\n",
              "</svg>\n",
              "  </button>\n",
              "\n",
              "<style>\n",
              "  .colab-df-quickchart {\n",
              "      --bg-color: #E8F0FE;\n",
              "      --fill-color: #1967D2;\n",
              "      --hover-bg-color: #E2EBFA;\n",
              "      --hover-fill-color: #174EA6;\n",
              "      --disabled-fill-color: #AAA;\n",
              "      --disabled-bg-color: #DDD;\n",
              "  }\n",
              "\n",
              "  [theme=dark] .colab-df-quickchart {\n",
              "      --bg-color: #3B4455;\n",
              "      --fill-color: #D2E3FC;\n",
              "      --hover-bg-color: #434B5C;\n",
              "      --hover-fill-color: #FFFFFF;\n",
              "      --disabled-bg-color: #3B4455;\n",
              "      --disabled-fill-color: #666;\n",
              "  }\n",
              "\n",
              "  .colab-df-quickchart {\n",
              "    background-color: var(--bg-color);\n",
              "    border: none;\n",
              "    border-radius: 50%;\n",
              "    cursor: pointer;\n",
              "    display: none;\n",
              "    fill: var(--fill-color);\n",
              "    height: 32px;\n",
              "    padding: 0;\n",
              "    width: 32px;\n",
              "  }\n",
              "\n",
              "  .colab-df-quickchart:hover {\n",
              "    background-color: var(--hover-bg-color);\n",
              "    box-shadow: 0 1px 2px rgba(60, 64, 67, 0.3), 0 1px 3px 1px rgba(60, 64, 67, 0.15);\n",
              "    fill: var(--button-hover-fill-color);\n",
              "  }\n",
              "\n",
              "  .colab-df-quickchart-complete:disabled,\n",
              "  .colab-df-quickchart-complete:disabled:hover {\n",
              "    background-color: var(--disabled-bg-color);\n",
              "    fill: var(--disabled-fill-color);\n",
              "    box-shadow: none;\n",
              "  }\n",
              "\n",
              "  .colab-df-spinner {\n",
              "    border: 2px solid var(--fill-color);\n",
              "    border-color: transparent;\n",
              "    border-bottom-color: var(--fill-color);\n",
              "    animation:\n",
              "      spin 1s steps(1) infinite;\n",
              "  }\n",
              "\n",
              "  @keyframes spin {\n",
              "    0% {\n",
              "      border-color: transparent;\n",
              "      border-bottom-color: var(--fill-color);\n",
              "      border-left-color: var(--fill-color);\n",
              "    }\n",
              "    20% {\n",
              "      border-color: transparent;\n",
              "      border-left-color: var(--fill-color);\n",
              "      border-top-color: var(--fill-color);\n",
              "    }\n",
              "    30% {\n",
              "      border-color: transparent;\n",
              "      border-left-color: var(--fill-color);\n",
              "      border-top-color: var(--fill-color);\n",
              "      border-right-color: var(--fill-color);\n",
              "    }\n",
              "    40% {\n",
              "      border-color: transparent;\n",
              "      border-right-color: var(--fill-color);\n",
              "      border-top-color: var(--fill-color);\n",
              "    }\n",
              "    60% {\n",
              "      border-color: transparent;\n",
              "      border-right-color: var(--fill-color);\n",
              "    }\n",
              "    80% {\n",
              "      border-color: transparent;\n",
              "      border-right-color: var(--fill-color);\n",
              "      border-bottom-color: var(--fill-color);\n",
              "    }\n",
              "    90% {\n",
              "      border-color: transparent;\n",
              "      border-bottom-color: var(--fill-color);\n",
              "    }\n",
              "  }\n",
              "</style>\n",
              "\n",
              "  <script>\n",
              "    async function quickchart(key) {\n",
              "      const quickchartButtonEl =\n",
              "        document.querySelector('#' + key + ' button');\n",
              "      quickchartButtonEl.disabled = true;  // To prevent multiple clicks.\n",
              "      quickchartButtonEl.classList.add('colab-df-spinner');\n",
              "      try {\n",
              "        const charts = await google.colab.kernel.invokeFunction(\n",
              "            'suggestCharts', [key], {});\n",
              "      } catch (error) {\n",
              "        console.error('Error during call to suggestCharts:', error);\n",
              "      }\n",
              "      quickchartButtonEl.classList.remove('colab-df-spinner');\n",
              "      quickchartButtonEl.classList.add('colab-df-quickchart-complete');\n",
              "    }\n",
              "    (() => {\n",
              "      let quickchartButtonEl =\n",
              "        document.querySelector('#df-3bbf4e7d-66ff-45c9-8662-ab78da07dafe button');\n",
              "      quickchartButtonEl.style.display =\n",
              "        google.colab.kernel.accessAllowed ? 'block' : 'none';\n",
              "    })();\n",
              "  </script>\n",
              "</div>\n",
              "\n",
              "    </div>\n",
              "  </div>\n"
            ],
            "application/vnd.google.colaboratory.intrinsic+json": {
              "type": "dataframe",
              "variable_name": "df_required_columns",
              "summary": "{\n  \"name\": \"df_required_columns\",\n  \"rows\": 3409,\n  \"fields\": [\n    {\n      \"column\": \"order_id_new\",\n      \"properties\": {\n        \"dtype\": \"number\",\n        \"std\": 1213,\n        \"min\": 0,\n        \"max\": 4165,\n        \"num_unique_values\": 2946,\n        \"samples\": [\n          609,\n          999,\n          975\n        ],\n        \"semantic_type\": \"\",\n        \"description\": \"\"\n      }\n    },\n    {\n      \"column\": \"metered_price\",\n      \"properties\": {\n        \"dtype\": \"number\",\n        \"std\": 14306.060449033102,\n        \"min\": 2.0,\n        \"max\": 194483.52,\n        \"num_unique_values\": 1507,\n        \"samples\": [\n          11645.7,\n          15956.04,\n          113848.46\n        ],\n        \"semantic_type\": \"\",\n        \"description\": \"\"\n      }\n    },\n    {\n      \"column\": \"upfront_price\",\n      \"properties\": {\n        \"dtype\": \"number\",\n        \"std\": 17015.711911669106,\n        \"min\": 2.0,\n        \"max\": 595000.0,\n        \"num_unique_values\": 289,\n        \"samples\": [\n          2.8,\n          7.3,\n          12.8\n        ],\n        \"semantic_type\": \"\",\n        \"description\": \"\"\n      }\n    },\n    {\n      \"column\": \"distance\",\n      \"properties\": {\n        \"dtype\": \"number\",\n        \"std\": 9882,\n        \"min\": 0,\n        \"max\": 171119,\n        \"num_unique_values\": 2646,\n        \"samples\": [\n          7447,\n          8807,\n          13623\n        ],\n        \"semantic_type\": \"\",\n        \"description\": \"\"\n      }\n    },\n    {\n      \"column\": \"duration\",\n      \"properties\": {\n        \"dtype\": \"number\",\n        \"std\": 1311,\n        \"min\": 0,\n        \"max\": 18734,\n        \"num_unique_values\": 1727,\n        \"samples\": [\n          435,\n          457,\n          258\n        ],\n        \"semantic_type\": \"\",\n        \"description\": \"\"\n      }\n    },\n    {\n      \"column\": \"gps_confidence\",\n      \"properties\": {\n        \"dtype\": \"number\",\n        \"std\": 0,\n        \"min\": 0,\n        \"max\": 1,\n        \"num_unique_values\": 2,\n        \"samples\": [\n          0,\n          1\n        ],\n        \"semantic_type\": \"\",\n        \"description\": \"\"\n      }\n    },\n    {\n      \"column\": \"dest_change_number\",\n      \"properties\": {\n        \"dtype\": \"number\",\n        \"std\": 0,\n        \"min\": 1,\n        \"max\": 7,\n        \"num_unique_values\": 6,\n        \"samples\": [\n          1,\n          3\n        ],\n        \"semantic_type\": \"\",\n        \"description\": \"\"\n      }\n    },\n    {\n      \"column\": \"prediction_price_type\",\n      \"properties\": {\n        \"dtype\": \"category\",\n        \"num_unique_values\": 1,\n        \"samples\": [\n          \"upfront\"\n        ],\n        \"semantic_type\": \"\",\n        \"description\": \"\"\n      }\n    },\n    {\n      \"column\": \"predicted_distance\",\n      \"properties\": {\n        \"dtype\": \"number\",\n        \"std\": 10972.320328524655,\n        \"min\": 21.0,\n        \"max\": 353538.0,\n        \"num_unique_values\": 2651,\n        \"samples\": [\n          6945.0\n        ],\n        \"semantic_type\": \"\",\n        \"description\": \"\"\n      }\n    },\n    {\n      \"column\": \"predicted_duration\",\n      \"properties\": {\n        \"dtype\": \"number\",\n        \"std\": 802.1154326554007,\n        \"min\": 2.0,\n        \"max\": 20992.0,\n        \"num_unique_values\": 1429,\n        \"samples\": [\n          967.0\n        ],\n        \"semantic_type\": \"\",\n        \"description\": \"\"\n      }\n    },\n    {\n      \"column\": \"fraud_score\",\n      \"properties\": {\n        \"dtype\": \"number\",\n        \"std\": 937.5137019107956,\n        \"min\": -14225.0,\n        \"max\": 49.0,\n        \"num_unique_values\": 826,\n        \"samples\": [\n          -374.0\n        ],\n        \"semantic_type\": \"\",\n        \"description\": \"\"\n      }\n    },\n    {\n      \"column\": \"Surprise_factor\",\n      \"properties\": {\n        \"dtype\": \"boolean\",\n        \"num_unique_values\": 2,\n        \"samples\": [\n          false\n        ],\n        \"semantic_type\": \"\",\n        \"description\": \"\"\n      }\n    },\n    {\n      \"column\": \"price_difference\",\n      \"properties\": {\n        \"dtype\": \"number\",\n        \"std\": 17010.080750491023,\n        \"min\": -581317.54,\n        \"max\": 178983.52,\n        \"num_unique_values\": 1633,\n        \"samples\": [\n          -0.33999999999999986\n        ],\n        \"semantic_type\": \"\",\n        \"description\": \"\"\n      }\n    }\n  ]\n}"
            }
          },
          "metadata": {},
          "execution_count": 49
        }
      ]
    },
    {
      "cell_type": "code",
      "source": [
        "df_required_columns.groupby(by ='Surprise_factor').size().plot(kind ='pie', autopct='%.2f', title ='Surprise factor')"
      ],
      "metadata": {
        "colab": {
          "base_uri": "https://localhost:8080/",
          "height": 445
        },
        "id": "FqH9ktbOKEkO",
        "outputId": "60ff7b7f-e1a6-4953-f9fe-f392dafae162"
      },
      "execution_count": 43,
      "outputs": [
        {
          "output_type": "execute_result",
          "data": {
            "text/plain": [
              "<Axes: title={'center': 'Surprise factor'}>"
            ]
          },
          "metadata": {},
          "execution_count": 43
        },
        {
          "output_type": "display_data",
          "data": {
            "text/plain": [
              "<Figure size 640x480 with 1 Axes>"
            ],
            "image/png": "[encoded data removed]"
          },
          "metadata": {}
        }
      ]
    },
    {
      "cell_type": "markdown",
      "source": [
        "#####***Shows that 46.05% of cases are a surprise for customers as for these cases metered_price is 120% of the upfront_price or metered_price is 80% of the upfront_price***"
      ],
      "metadata": {
        "id": "qAO9Tmk1UgNR"
      }
    },
    {
      "cell_type": "markdown",
      "source": [
        "### ***4. Analyzing relation between Actual Distance and Metered Price***"
      ],
      "metadata": {
        "id": "Mmh7R-nwVRe9"
      }
    },
    {
      "cell_type": "code",
      "source": [
        "plt.scatter(df['distance'], df['metered_price'])\n",
        "plt.xlabel('Distance')\n",
        "plt.ylabel('Metered Price')\n",
        "plt.show()\n"
      ],
      "metadata": {
        "colab": {
          "base_uri": "https://localhost:8080/",
          "height": 449
        },
        "id": "GEq4ddRbLWyp",
        "outputId": "28e4a593-2e98-4013-dc2e-60b11d9c1941"
      },
      "execution_count": 42,
      "outputs": [
        {
          "output_type": "display_data",
          "data": {
            "text/plain": [
              "<Figure size 640x480 with 1 Axes>"
            ],
            "image/png": "[encoded data removed]"
          },
          "metadata": {}
        }
      ]
    },
    {
      "cell_type": "markdown",
      "source": [
        "### ***5. Categorical breakdowns***"
      ],
      "metadata": {
        "id": "OVnUKTCrVYbQ"
      }
    },
    {
      "cell_type": "code",
      "source": [
        "df.boxplot(column=['metered_price'], by=['gps_confidence'])"
      ],
      "metadata": {
        "colab": {
          "base_uri": "https://localhost:8080/",
          "height": 495
        },
        "id": "hT19p9pcMRdn",
        "outputId": "fc37df5b-c0d5-447b-d37d-43d93c0d423e"
      },
      "execution_count": 44,
      "outputs": [
        {
          "output_type": "execute_result",
          "data": {
            "text/plain": [
              "<Axes: title={'center': 'metered_price'}, xlabel='[gps_confidence]'>"
            ]
          },
          "metadata": {},
          "execution_count": 44
        },
        {
          "output_type": "display_data",
          "data": {
            "text/plain": [
              "<Figure size 640x480 with 1 Axes>"
            ],
            "image/png": "[encoded data removed]"
          },
          "metadata": {}
        }
      ]
    },
    {
      "cell_type": "markdown",
      "source": [
        "### ***6. Focus on Prediction Errors***\n",
        "\n"
      ],
      "metadata": {
        "id": "3ze5o2e-NTDu"
      }
    },
    {
      "cell_type": "code",
      "source": [
        "# Large errors\n",
        "df_filtered = df[abs(df['price_difference'] / df['metered_price']) > 0.2]\n",
        "\n",
        "# Analyzing common characteristics\n",
        "df_filtered.describe()  # Statistics of rows with large errors\n",
        "df_filtered.groupby('gps_confidence').size()  # Any patterns in GPS quality?\n",
        "df_filtered.groupby('prediction_price_type').size()  # Which price type is more prone to error?\n"
      ],
      "metadata": {
        "colab": {
          "base_uri": "https://localhost:8080/"
        },
        "id": "U6Oo0KkzN58W",
        "outputId": "af7c46bc-9cb8-49a9-c34f-05635d5389e2"
      },
      "execution_count": 46,
      "outputs": [
        {
          "output_type": "execute_result",
          "data": {
            "text/plain": [
              "prediction_price_type\n",
              "upfront    1360\n",
              "dtype: int64"
            ]
          },
          "metadata": {},
          "execution_count": 46
        }
      ]
    },
    {
      "cell_type": "markdown",
      "source": [
        "### ***7. Price Difference vs GPS Confidence***\n",
        "\n"
      ],
      "metadata": {
        "id": "dMD40zr-W0r1"
      }
    },
    {
      "cell_type": "code",
      "source": [
        "df_required_columns.boxplot(column='price_difference', by='gps_confidence')\n",
        "plt.show()\n"
      ],
      "metadata": {
        "colab": {
          "base_uri": "https://localhost:8080/",
          "height": 478
        },
        "id": "4TjQjgExS9bx",
        "outputId": "1e8aea29-45d0-413a-a480-88525b8c55f6"
      },
      "execution_count": 51,
      "outputs": [
        {
          "output_type": "display_data",
          "data": {
            "text/plain": [
              "<Figure size 640x480 with 1 Axes>"
            ],
            "image/png": "[encoded data removed]"
          },
          "metadata": {}
        }
      ]
    },
    {
      "cell_type": "markdown",
      "source": [
        "### ***8. No. of destination changed vs Price Difference***\n",
        "\n"
      ],
      "metadata": {
        "id": "fZOuIUQLW_iq"
      }
    },
    {
      "cell_type": "code",
      "source": [
        "df.groupby('dest_change_number')['price_difference'].mean().plot()\n",
        "plt.show()\n"
      ],
      "metadata": {
        "colab": {
          "base_uri": "https://localhost:8080/",
          "height": 450
        },
        "id": "l-Fa6rAVTDvN",
        "outputId": "9b5a1464-e738-4b6d-d763-4b818aafd0d4"
      },
      "execution_count": 52,
      "outputs": [
        {
          "output_type": "display_data",
          "data": {
            "text/plain": [
              "<Figure size 640x480 with 1 Axes>"
            ],
            "image/png": "[encoded data removed]"
          },
          "metadata": {}
        }
      ]
    },
    {
      "cell_type": "markdown",
      "source": [
        "### ***9. Pricing Errors vs GPS Signal Quality***\n",
        "\n"
      ],
      "metadata": {
        "id": "TwvN0chCYf9j"
      }
    },
    {
      "cell_type": "code",
      "source": [
        "# First, we calculate percentage of rides with poor GPS\n",
        "low_gps_rides = df[df['gps_confidence'] == 0]\n",
        "percentage_low_gps = (len(low_gps_rides) / len(df)) * 100\n",
        "print(f\"Analysis revealed that {percentage_low_gps:.1f}% of rides had low GPS confidence.\")\n",
        "\n",
        "# Plotting the same:\n",
        "plt.figure(figsize=(8, 5))\n",
        "df.boxplot(column='price_difference', by='gps_confidence')\n",
        "plt.title('Pricing Errors by GPS Signal Quality')\n",
        "plt.xlabel('GPS confidence')\n",
        "plt.ylabel('Price difference')\n",
        "plt.show()\n"
      ],
      "metadata": {
        "colab": {
          "base_uri": "https://localhost:8080/",
          "height": 512
        },
        "id": "SpqHmbumTgIW",
        "outputId": "d4d5a8fc-fc32-487e-d233-7e1998a4a9bc"
      },
      "execution_count": 70,
      "outputs": [
        {
          "output_type": "stream",
          "name": "stdout",
          "text": [
            "Analysis revealed that 19.9% of rides had low GPS confidence.\n"
          ]
        },
        {
          "output_type": "display_data",
          "data": {
            "text/plain": [
              "<Figure size 800x500 with 0 Axes>"
            ]
          },
          "metadata": {}
        },
        {
          "output_type": "display_data",
          "data": {
            "text/plain": [
              "<Figure size 640x480 with 1 Axes>"
            ],
            "image/png": "[encoded data removed]"
          },
          "metadata": {}
        }
      ]
    },
    {
      "cell_type": "markdown",
      "source": [
        "# **10. GPS Signal Quality**\n"
      ],
      "metadata": {
        "id": "vT58HsQW-EOt"
      }
    },
    {
      "cell_type": "markdown",
      "source": [
        "**10.1) State the percentage of rides with poor GPS confidence**"
      ],
      "metadata": {
        "id": "nQsehXXj_jeT"
      }
    },
    {
      "cell_type": "code",
      "source": [
        "# Total number of rides\n",
        "total_rides = len(df)\n",
        "\n",
        "# Number of rides with poor GPS confidence\n",
        "rides_with_poor_gps = len(df[df['gps_confidence'] == 0])\n",
        "\n",
        "# Percentage\n",
        "percentage_poor_gps = (rides_with_poor_gps / total_rides) * 100\n",
        "\n",
        "print(f\"Percentage of rides with poor GPS confidence: {percentage_poor_gps:.1f}%\")\n"
      ],
      "metadata": {
        "colab": {
          "base_uri": "https://localhost:8080/"
        },
        "id": "HuI8gTDH9lhH",
        "outputId": "9ee49805-b45e-402a-8ca6-ed36db1ae04b"
      },
      "execution_count": 71,
      "outputs": [
        {
          "output_type": "stream",
          "name": "stdout",
          "text": [
            "Percentage of rides with poor GPS confidence: 19.9%\n"
          ]
        }
      ]
    },
    {
      "cell_type": "markdown",
      "source": [
        "**10.2) Visualization showcasing the significantly higher pricing errors when GPS signals are weak.**"
      ],
      "metadata": {
        "id": "mobuwr_b_mzY"
      }
    },
    {
      "cell_type": "code",
      "source": [
        "plt.figure(figsize=(8, 5))  # Adjust figure size if needed\n",
        "df.boxplot(column='price_difference', by='gps_confidence')\n",
        "\n",
        "plt.title('Pricing Errors by GPS Signal Quality')\n",
        "plt.ylabel('Price Difference')\n",
        "plt.xlabel('GPS Confidence')\n",
        "plt.show()\n"
      ],
      "metadata": {
        "colab": {
          "base_uri": "https://localhost:8080/",
          "height": 495
        },
        "id": "VTzvYAHq97Jw",
        "outputId": "cff003eb-71eb-4610-e9ce-c05e3123ba12"
      },
      "execution_count": 72,
      "outputs": [
        {
          "output_type": "display_data",
          "data": {
            "text/plain": [
              "<Figure size 800x500 with 0 Axes>"
            ]
          },
          "metadata": {}
        },
        {
          "output_type": "display_data",
          "data": {
            "text/plain": [
              "<Figure size 640x480 with 1 Axes>"
            ],
            "image/png": "[encoded data removed]"
          },
          "metadata": {}
        }
      ]
    },
    {
      "cell_type": "markdown",
      "source": [
        "# **11. Destination Changes**\n",
        "\n",
        "\n"
      ],
      "metadata": {
        "id": "Qo39XEvRALae"
      }
    },
    {
      "cell_type": "markdown",
      "source": [
        "###***11.1) Line Chart showcasing how the average price discrepancy increases as the number of destination changes goes up.***"
      ],
      "metadata": {
        "id": "zCRfM3wAATOF"
      }
    },
    {
      "cell_type": "code",
      "source": [
        "# Calculating average price discrepancy by number of changes\n",
        "df_grouped = df.groupby('dest_change_number')['price_difference'].mean()\n",
        "\n",
        "# Plotting the same\n",
        "plt.figure(figsize=(8, 5))\n",
        "plt.plot(df_grouped.index, df_grouped.values)\n",
        "\n",
        "plt.xlabel('Number of Destination Changes')\n",
        "plt.ylabel('Average Price Discrepancy')\n",
        "plt.title('Impact of Destination Changes on Pricing Accuracy')\n",
        "plt.grid(True)\n",
        "plt.show()\n"
      ],
      "metadata": {
        "colab": {
          "base_uri": "https://localhost:8080/",
          "height": 487
        },
        "id": "c10C1JAvALnM",
        "outputId": "7029a859-1688-4f85-da82-55863efa0149"
      },
      "execution_count": 73,
      "outputs": [
        {
          "output_type": "display_data",
          "data": {
            "text/plain": [
              "<Figure size 800x500 with 1 Axes>"
            ],
            "image/png": "[encoded data removed]"
          },
          "metadata": {}
        }
      ]
    },
    {
      "cell_type": "markdown",
      "source": [
        "###***11.2) Checking if my analysis found a threshold**"
      ],
      "metadata": {
        "id": "6ejEUjxnAkyZ"
      }
    },
    {
      "cell_type": "code",
      "source": [
        "import pandas as pd\n",
        "\n",
        "for i in range(1, df_grouped.index.max()):\n",
        "    before_change = df_grouped.iloc[:i].mean()  # Average discrepancy before 'i' changes\n",
        "    after_change = df_grouped.iloc[i:].mean()  # Average discrepancy after 'i' changes\n",
        "\n",
        "    # Check for significant increase\n",
        "    if abs(after_change - before_change) > 0.2 * before_change:\n",
        "        print(f\"Pricing accuracy significantly decreased after more than {i} destination changes.\")\n",
        "        break  # Stopping the loop once threshold is found\n"
      ],
      "metadata": {
        "colab": {
          "base_uri": "https://localhost:8080/"
        },
        "id": "KCscc2dsAgdx",
        "outputId": "07d6a081-4f52-44b5-b9d3-6dac1f14f0e6"
      },
      "execution_count": 74,
      "outputs": [
        {
          "output_type": "stream",
          "name": "stdout",
          "text": [
            "Pricing accuracy significantly decreased after more than 1 destination changes.\n"
          ]
        }
      ]
    },
    {
      "cell_type": "markdown",
      "source": [
        "### **11.3) How much % of users face more than 20% Fluctuation in Upfront Prices**"
      ],
      "metadata": {
        "id": "TQuRIDDCA4tR"
      }
    },
    {
      "cell_type": "code",
      "source": [
        "counts = df_required_columns.groupby('Surprise_factor').size()\n",
        "\n",
        "labels = ['Users who paid Upfront Prices within 20% fluctuation',\n",
        "          'Users who paid Upfront Prices more than 20% fluctuation']\n",
        "\n",
        "colors = ['red', 'green']\n",
        "\n",
        "plt.pie(counts, labels=labels, colors=colors, autopct='%.2f%%')\n",
        "plt.title('Distribution of Upfront Pricing Accuracy')\n",
        "plt.show()"
      ],
      "metadata": {
        "colab": {
          "base_uri": "https://localhost:8080/",
          "height": 428
        },
        "id": "qMZPyb6xCuLy",
        "outputId": "86633da3-77b1-47f3-8fac-71de500be0c9"
      },
      "execution_count": 75,
      "outputs": [
        {
          "output_type": "display_data",
          "data": {
            "text/plain": [
              "<Figure size 640x480 with 1 Axes>"
            ],
            "image/png": "[encoded data removed]"
          },
          "metadata": {}
        }
      ]
    }
  ]
}